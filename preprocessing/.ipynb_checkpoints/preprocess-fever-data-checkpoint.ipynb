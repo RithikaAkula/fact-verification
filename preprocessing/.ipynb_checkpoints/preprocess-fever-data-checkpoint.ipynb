{
 "cells": [
  {
   "cell_type": "code",
   "execution_count": 1,
   "id": "02ff7d9c",
   "metadata": {},
   "outputs": [],
   "source": [
    "import numpy as np\n",
    "import pandas as pd\n",
    "from datasets import load_dataset\n",
    "import cudf\n",
    "import os\n"
   ]
  },
  {
   "cell_type": "code",
   "execution_count": 1,
   "id": "01c26522",
   "metadata": {},
   "outputs": [
    {
     "data": {
      "text/plain": [
       "device(type='cpu')"
      ]
     },
     "execution_count": 1,
     "metadata": {},
     "output_type": "execute_result"
    }
   ],
   "source": [
    "import torch\n",
    "device = torch.device('cuda' if torch.cuda.is_available() else 'cpu')\n",
    "device"
   ]
  },
  {
   "cell_type": "code",
   "execution_count": 3,
   "id": "f54cb78e",
   "metadata": {},
   "outputs": [],
   "source": [
    "import re\n",
    "from nltk.corpus import stopwords\n",
    "from unidecode import unidecode\n",
    "\n",
    "# Clean text\n",
    "def remove_non_ascii(text):\n",
    "    return re.sub(r'[^\\x00-\\x7F]', ' ', text)\n",
    "\n",
    "\n",
    "def remove_punctuation(text):\n",
    "    return re.sub(r'[^\\w]', ' ', text)\n",
    "\n",
    "def remove_digits(text):\n",
    "    return re.sub(r'[\\d]', '', text)\n",
    "\n",
    "\n",
    "def to_lowercase(text):\n",
    "    return text.lower()\n",
    "\n",
    "\n",
    "def remove_extra_space(text):\n",
    "    return re.sub(' +', ' ', text)\n",
    "\n",
    "\n",
    "def remove_url(text):\n",
    "    return re.sub(r'http\\S+', ' ', text)\n",
    "\n",
    "\n",
    "def remove_underline(text):\n",
    "    return text.replace('_', ' ')\n",
    "\n",
    "\n",
    "def remove_hyphen(text):\n",
    "    return text.replace('-', ' ')\n",
    "\n",
    "\n",
    "def remove_leading_whitespace(text):\n",
    "    return text.lstrip()\n",
    "\n",
    "def remove_stopwords(text):\n",
    "    stop_words = set(stopwords.words('english'))\n",
    "    return ' '.join([word for word in text.split() if word not in stop_words])\n",
    "\n",
    "def decode_special_chars(text):\n",
    "    return re.sub(r'-[A-Z]+-', ' ', text)\n",
    "\n",
    "def remove_newline(text):\n",
    "    return re.sub('\\n', ' ', text)\n",
    "\n",
    "def remove_tabs(text):\n",
    "    return re.sub('\\t', '', text)\n",
    "\n",
    "def remove_intext_tabs(text):\n",
    "    return re.sub(r'(?<!\\d)\\t', ' ', text)\n",
    "\n",
    "def remove_special_tokens(text):\n",
    "    return re.sub(r'-[A-Z]+-', '', text)\n",
    "\n",
    "def remove_quotes(text):\n",
    "    text = re.sub(r'(``|\\' \\')', '', text)\n",
    "    return re.sub(r\"''\", '', text)\n",
    "\n",
    "\n",
    "def clean_text(df: pd.DataFrame, column: str):\n",
    "    \n",
    "    df[column] = df[column].apply(remove_special_tokens)\n",
    "    df[column] = df[column].apply(remove_extra_space)\n",
    "    df[column] = df[column].apply(remove_quotes)\n",
    "\n",
    "    return df "
   ]
  },
  {
   "cell_type": "code",
   "execution_count": 4,
   "id": "f1761611",
   "metadata": {},
   "outputs": [],
   "source": [
    "\n",
    "def get_claim_df():\n",
    "    \n",
    "    cache_dir = '/home/rahvk/data/tmp/cache/fever3' # change this to your own path\n",
    "    claim_dataset = load_dataset('fever', 'v1.0', cache_dir=cache_dir)\n",
    "    claim_df = pd.DataFrame()\n",
    "\n",
    "    for split in ['paper_test']:\n",
    "        # Load train file\n",
    "        claim_split = claim_dataset[split]\n",
    "        claim_d = pd.DataFrame(claim_split)\n",
    "\n",
    "        claim_d = claim_d.drop(columns=['evidence_annotation_id', 'evidence_id', 'evidence_sentence_id'])\n",
    "        \n",
    "        # Remove rows with label NOT ENOUGH INFO\n",
    "        claim_d = claim_d[claim_d['label'] != \"NOT ENOUGH INFO\"]\n",
    "\n",
    "        # Clean claim DataFrame\n",
    "        claim_d = clean_text(df=claim_d, column=\"claim\")\n",
    "        claim_d.rename(columns={'evidence_wiki_url': 'title'}, inplace=True)\n",
    "        claim_df = pd.concat([claim_df, claim_d], axis=0).drop_duplicates()\n",
    "\n",
    "        del claim_split\n",
    "        del claim_d\n",
    "\n",
    "    del claim_dataset\n",
    "    \n",
    "    return claim_df"
   ]
  },
  {
   "cell_type": "code",
   "execution_count": 5,
   "id": "40f4aa68",
   "metadata": {},
   "outputs": [
    {
     "name": "stderr",
     "output_type": "stream",
     "text": [
      "Found cached dataset fever (/home/rahvk/data/tmp/cache/fever3/fever/v1.0/1.0.0/7f8936e0558704771b08c7ce9cc202071b29a0050603374507ba61d23c00a58e)\n"
     ]
    },
    {
     "data": {
      "application/vnd.jupyter.widget-view+json": {
       "model_id": "127af81848a94fbfbe433c8304a9012f",
       "version_major": 2,
       "version_minor": 0
      },
      "text/plain": [
       "  0%|          | 0/6 [00:00<?, ?it/s]"
      ]
     },
     "metadata": {},
     "output_type": "display_data"
    },
    {
     "data": {
      "text/html": [
       "<div>\n",
       "<style scoped>\n",
       "    .dataframe tbody tr th:only-of-type {\n",
       "        vertical-align: middle;\n",
       "    }\n",
       "\n",
       "    .dataframe tbody tr th {\n",
       "        vertical-align: top;\n",
       "    }\n",
       "\n",
       "    .dataframe thead th {\n",
       "        text-align: right;\n",
       "    }\n",
       "</style>\n",
       "<table border=\"1\" class=\"dataframe\">\n",
       "  <thead>\n",
       "    <tr style=\"text-align: right;\">\n",
       "      <th></th>\n",
       "      <th>id</th>\n",
       "      <th>label</th>\n",
       "      <th>claim</th>\n",
       "      <th>title</th>\n",
       "    </tr>\n",
       "  </thead>\n",
       "  <tbody>\n",
       "    <tr>\n",
       "      <th>1</th>\n",
       "      <td>163803</td>\n",
       "      <td>SUPPORTS</td>\n",
       "      <td>Ukrainian Soviet Socialist Republic was a foun...</td>\n",
       "      <td>Ukrainian_Soviet_Socialist_Republic</td>\n",
       "    </tr>\n",
       "    <tr>\n",
       "      <th>3</th>\n",
       "      <td>163803</td>\n",
       "      <td>SUPPORTS</td>\n",
       "      <td>Ukrainian Soviet Socialist Republic was a foun...</td>\n",
       "      <td>United_Nations</td>\n",
       "    </tr>\n",
       "    <tr>\n",
       "      <th>8</th>\n",
       "      <td>70041</td>\n",
       "      <td>SUPPORTS</td>\n",
       "      <td>2 Hearts is a musical composition by Minogue.</td>\n",
       "      <td>2_Hearts_-LRB-Kylie_Minogue_song-RRB-</td>\n",
       "    </tr>\n",
       "    <tr>\n",
       "      <th>12</th>\n",
       "      <td>202314</td>\n",
       "      <td>REFUTES</td>\n",
       "      <td>The New Jersey Turnpike has zero shoulders.</td>\n",
       "      <td>New_Jersey_Turnpike</td>\n",
       "    </tr>\n",
       "    <tr>\n",
       "      <th>18</th>\n",
       "      <td>6032</td>\n",
       "      <td>REFUTES</td>\n",
       "      <td>Aruba is the only ABC Island.</td>\n",
       "      <td>ABC_islands_-LRB-Lesser_Antilles-RRB-</td>\n",
       "    </tr>\n",
       "  </tbody>\n",
       "</table>\n",
       "</div>"
      ],
      "text/plain": [
       "        id     label                                              claim  \\\n",
       "1   163803  SUPPORTS  Ukrainian Soviet Socialist Republic was a foun...   \n",
       "3   163803  SUPPORTS  Ukrainian Soviet Socialist Republic was a foun...   \n",
       "8    70041  SUPPORTS      2 Hearts is a musical composition by Minogue.   \n",
       "12  202314   REFUTES        The New Jersey Turnpike has zero shoulders.   \n",
       "18    6032   REFUTES                      Aruba is the only ABC Island.   \n",
       "\n",
       "                                    title  \n",
       "1     Ukrainian_Soviet_Socialist_Republic  \n",
       "3                          United_Nations  \n",
       "8   2_Hearts_-LRB-Kylie_Minogue_song-RRB-  \n",
       "12                    New_Jersey_Turnpike  \n",
       "18  ABC_islands_-LRB-Lesser_Antilles-RRB-  "
      ]
     },
     "execution_count": 5,
     "metadata": {},
     "output_type": "execute_result"
    }
   ],
   "source": [
    "claim_df = get_claim_df()\n",
    "claim_df.head()"
   ]
  },
  {
   "cell_type": "code",
   "execution_count": 6,
   "id": "98cd64f3",
   "metadata": {},
   "outputs": [
    {
     "data": {
      "text/plain": [
       "(7937, 4)"
      ]
     },
     "execution_count": 6,
     "metadata": {},
     "output_type": "execute_result"
    }
   ],
   "source": [
    "claim_df.shape"
   ]
  },
  {
   "cell_type": "code",
   "execution_count": 7,
   "id": "f8f89b18",
   "metadata": {},
   "outputs": [
    {
     "data": {
      "text/html": [
       "<div>\n",
       "<style scoped>\n",
       "    .dataframe tbody tr th:only-of-type {\n",
       "        vertical-align: middle;\n",
       "    }\n",
       "\n",
       "    .dataframe tbody tr th {\n",
       "        vertical-align: top;\n",
       "    }\n",
       "\n",
       "    .dataframe thead th {\n",
       "        text-align: right;\n",
       "    }\n",
       "</style>\n",
       "<table border=\"1\" class=\"dataframe\">\n",
       "  <thead>\n",
       "    <tr style=\"text-align: right;\">\n",
       "      <th></th>\n",
       "      <th>id</th>\n",
       "      <th>label</th>\n",
       "      <th>claim</th>\n",
       "      <th>title</th>\n",
       "    </tr>\n",
       "  </thead>\n",
       "  <tbody>\n",
       "    <tr>\n",
       "      <th>0</th>\n",
       "      <td>163803</td>\n",
       "      <td>SUPPORTS</td>\n",
       "      <td>Ukrainian Soviet Socialist Republic was a foun...</td>\n",
       "      <td>Ukrainian_Soviet_Socialist_Republic</td>\n",
       "    </tr>\n",
       "    <tr>\n",
       "      <th>1</th>\n",
       "      <td>163803</td>\n",
       "      <td>SUPPORTS</td>\n",
       "      <td>Ukrainian Soviet Socialist Republic was a foun...</td>\n",
       "      <td>United_Nations</td>\n",
       "    </tr>\n",
       "    <tr>\n",
       "      <th>2</th>\n",
       "      <td>70041</td>\n",
       "      <td>SUPPORTS</td>\n",
       "      <td>2 Hearts is a musical composition by Minogue.</td>\n",
       "      <td>2_Hearts_-LRB-Kylie_Minogue_song-RRB-</td>\n",
       "    </tr>\n",
       "    <tr>\n",
       "      <th>3</th>\n",
       "      <td>202314</td>\n",
       "      <td>REFUTES</td>\n",
       "      <td>The New Jersey Turnpike has zero shoulders.</td>\n",
       "      <td>New_Jersey_Turnpike</td>\n",
       "    </tr>\n",
       "    <tr>\n",
       "      <th>4</th>\n",
       "      <td>6032</td>\n",
       "      <td>REFUTES</td>\n",
       "      <td>Aruba is the only ABC Island.</td>\n",
       "      <td>ABC_islands_-LRB-Lesser_Antilles-RRB-</td>\n",
       "    </tr>\n",
       "  </tbody>\n",
       "</table>\n",
       "</div>"
      ],
      "text/plain": [
       "       id     label                                              claim  \\\n",
       "0  163803  SUPPORTS  Ukrainian Soviet Socialist Republic was a foun...   \n",
       "1  163803  SUPPORTS  Ukrainian Soviet Socialist Republic was a foun...   \n",
       "2   70041  SUPPORTS      2 Hearts is a musical composition by Minogue.   \n",
       "3  202314   REFUTES        The New Jersey Turnpike has zero shoulders.   \n",
       "4    6032   REFUTES                      Aruba is the only ABC Island.   \n",
       "\n",
       "                                   title  \n",
       "0    Ukrainian_Soviet_Socialist_Republic  \n",
       "1                         United_Nations  \n",
       "2  2_Hearts_-LRB-Kylie_Minogue_song-RRB-  \n",
       "3                    New_Jersey_Turnpike  \n",
       "4  ABC_islands_-LRB-Lesser_Antilles-RRB-  "
      ]
     },
     "execution_count": 7,
     "metadata": {},
     "output_type": "execute_result"
    }
   ],
   "source": [
    "claim_df = claim_df.reset_index(drop=True)\n",
    "claim_df.head()\n"
   ]
  },
  {
   "cell_type": "code",
   "execution_count": 8,
   "id": "5271bd82",
   "metadata": {},
   "outputs": [],
   "source": [
    "claim_df.to_parquet('processed_fever/fever-without-noi.parquet')"
   ]
  },
  {
   "cell_type": "code",
   "execution_count": 9,
   "id": "69900ee9",
   "metadata": {},
   "outputs": [],
   "source": [
    "\n",
    "# Randomly select 333 rows where label = 'SUPPORTS'\n",
    "supports_df = claim_df[claim_df['label'] == 'SUPPORTS'].sample(n=333, random_state=42)\n",
    "\n",
    "# Randomly select 333 rows where label = 'REFUTES'\n",
    "refutes_df = claim_df[claim_df['label'] == 'REFUTES'].sample(n=333, random_state=42)\n",
    "\n",
    "# Randomly select 334 rows where label = 'NOT ENOUGH INFO'\n",
    "noi_df = claim_df[claim_df['label'] == 'NOT ENOUGH INFO'].sample(n=334, random_state=42)\n",
    "\n",
    "# Concatenate the DataFrames\n",
    "result_df = pd.concat([supports_df, refutes_df, noi_df], ignore_index=True)\n",
    "\n",
    "# Shuffle the resulting DataFrame\n",
    "result_df = result_df.sample(frac=1, random_state=42).reset_index(drop=True)\n"
   ]
  },
  {
   "cell_type": "code",
   "execution_count": 10,
   "id": "a99630d1",
   "metadata": {},
   "outputs": [
    {
     "data": {
      "text/html": [
       "<div>\n",
       "<style scoped>\n",
       "    .dataframe tbody tr th:only-of-type {\n",
       "        vertical-align: middle;\n",
       "    }\n",
       "\n",
       "    .dataframe tbody tr th {\n",
       "        vertical-align: top;\n",
       "    }\n",
       "\n",
       "    .dataframe thead th {\n",
       "        text-align: right;\n",
       "    }\n",
       "</style>\n",
       "<table border=\"1\" class=\"dataframe\">\n",
       "  <thead>\n",
       "    <tr style=\"text-align: right;\">\n",
       "      <th></th>\n",
       "      <th>id</th>\n",
       "      <th>label</th>\n",
       "      <th>claim</th>\n",
       "      <th>title</th>\n",
       "    </tr>\n",
       "  </thead>\n",
       "  <tbody>\n",
       "    <tr>\n",
       "      <th>0</th>\n",
       "      <td>109876</td>\n",
       "      <td>REFUTES</td>\n",
       "      <td>Little Dorrit was only published in the 1980s.</td>\n",
       "      <td>Little_Dorrit</td>\n",
       "    </tr>\n",
       "    <tr>\n",
       "      <th>1</th>\n",
       "      <td>137384</td>\n",
       "      <td>REFUTES</td>\n",
       "      <td>Johnny Van Zant is incapable of being a musician.</td>\n",
       "      <td>No_More_Dirty_Deals</td>\n",
       "    </tr>\n",
       "    <tr>\n",
       "      <th>2</th>\n",
       "      <td>131309</td>\n",
       "      <td>REFUTES</td>\n",
       "      <td>Henry Cavill is a famous director.</td>\n",
       "      <td>Henry_Cavill</td>\n",
       "    </tr>\n",
       "    <tr>\n",
       "      <th>3</th>\n",
       "      <td>213437</td>\n",
       "      <td>REFUTES</td>\n",
       "      <td>The Originals (TV series) began airing on The ...</td>\n",
       "      <td>The_Originals_-LRB-TV_series-RRB-</td>\n",
       "    </tr>\n",
       "    <tr>\n",
       "      <th>4</th>\n",
       "      <td>79366</td>\n",
       "      <td>SUPPORTS</td>\n",
       "      <td>Temple Mount is related to an Abrahamic religion.</td>\n",
       "      <td>Bible</td>\n",
       "    </tr>\n",
       "  </tbody>\n",
       "</table>\n",
       "</div>"
      ],
      "text/plain": [
       "       id     label                                              claim  \\\n",
       "0  109876   REFUTES     Little Dorrit was only published in the 1980s.   \n",
       "1  137384   REFUTES  Johnny Van Zant is incapable of being a musician.   \n",
       "2  131309   REFUTES                 Henry Cavill is a famous director.   \n",
       "3  213437   REFUTES  The Originals (TV series) began airing on The ...   \n",
       "4   79366  SUPPORTS  Temple Mount is related to an Abrahamic religion.   \n",
       "\n",
       "                               title  \n",
       "0                      Little_Dorrit  \n",
       "1                No_More_Dirty_Deals  \n",
       "2                       Henry_Cavill  \n",
       "3  The_Originals_-LRB-TV_series-RRB-  \n",
       "4                              Bible  "
      ]
     },
     "execution_count": 10,
     "metadata": {},
     "output_type": "execute_result"
    }
   ],
   "source": [
    "result_df = result_df.reset_index(drop=True)\n",
    "result_df.head()\n"
   ]
  },
  {
   "cell_type": "code",
   "execution_count": 11,
   "id": "6699ab10",
   "metadata": {},
   "outputs": [
    {
     "data": {
      "text/plain": [
       "(1000, 4)"
      ]
     },
     "execution_count": 11,
     "metadata": {},
     "output_type": "execute_result"
    }
   ],
   "source": [
    "result_df.shape"
   ]
  },
  {
   "cell_type": "code",
   "execution_count": 12,
   "id": "1520dc63",
   "metadata": {},
   "outputs": [],
   "source": [
    "result_df.to_parquet('processed_fever/fever-1000.parquet')"
   ]
  }
 ],
 "metadata": {
  "kernelspec": {
   "display_name": "Python faiss_1.7.4",
   "language": "python",
   "name": "faiss_1.7.4"
  },
  "language_info": {
   "codemirror_mode": {
    "name": "ipython",
    "version": 3
   },
   "file_extension": ".py",
   "mimetype": "text/x-python",
   "name": "python",
   "nbconvert_exporter": "python",
   "pygments_lexer": "ipython3",
   "version": "3.10.13"
  }
 },
 "nbformat": 4,
 "nbformat_minor": 5
}
