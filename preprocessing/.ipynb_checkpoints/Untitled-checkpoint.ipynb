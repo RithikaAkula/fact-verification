{
 "cells": [
  {
   "cell_type": "code",
   "execution_count": 8,
   "id": "2fcda929",
   "metadata": {},
   "outputs": [],
   "source": [
    "import pandas as pd\n",
    "import json\n"
   ]
  },
  {
   "cell_type": "code",
   "execution_count": 79,
   "id": "724fb2c3",
   "metadata": {},
   "outputs": [],
   "source": [
    "wiki_df = pd.read_parquet('processed_data/0.parquet')\n"
   ]
  },
  {
   "cell_type": "code",
   "execution_count": 80,
   "id": "7d0c8415",
   "metadata": {},
   "outputs": [
    {
     "data": {
      "text/html": [
       "<div>\n",
       "<style scoped>\n",
       "    .dataframe tbody tr th:only-of-type {\n",
       "        vertical-align: middle;\n",
       "    }\n",
       "\n",
       "    .dataframe tbody tr th {\n",
       "        vertical-align: top;\n",
       "    }\n",
       "\n",
       "    .dataframe thead th {\n",
       "        text-align: right;\n",
       "    }\n",
       "</style>\n",
       "<table border=\"1\" class=\"dataframe\">\n",
       "  <thead>\n",
       "    <tr style=\"text-align: right;\">\n",
       "      <th></th>\n",
       "      <th>title</th>\n",
       "      <th>lines</th>\n",
       "      <th>unique_id</th>\n",
       "    </tr>\n",
       "  </thead>\n",
       "  <tbody>\n",
       "    <tr>\n",
       "      <th>0</th>\n",
       "      <td>1928_in_association_football</td>\n",
       "      <td>The following are the football soccer events o...</td>\n",
       "      <td>0</td>\n",
       "    </tr>\n",
       "    <tr>\n",
       "      <th>1</th>\n",
       "      <td>1986_NBA_Finals</td>\n",
       "      <td>The 1986 NBA Finals was the championship round...</td>\n",
       "      <td>1</td>\n",
       "    </tr>\n",
       "    <tr>\n",
       "      <th>2</th>\n",
       "      <td>1986_NBA_Finals</td>\n",
       "      <td>It pitted the Eastern Conference champion Bost...</td>\n",
       "      <td>2</td>\n",
       "    </tr>\n",
       "    <tr>\n",
       "      <th>3</th>\n",
       "      <td>1986_NBA_Finals</td>\n",
       "      <td>The Celtics defeated the Rockets four games to...</td>\n",
       "      <td>3</td>\n",
       "    </tr>\n",
       "    <tr>\n",
       "      <th>4</th>\n",
       "      <td>1986_NBA_Finals</td>\n",
       "      <td>The championship would be the Celtics ' last u...</td>\n",
       "      <td>4</td>\n",
       "    </tr>\n",
       "  </tbody>\n",
       "</table>\n",
       "</div>"
      ],
      "text/plain": [
       "                          title  \\\n",
       "0  1928_in_association_football   \n",
       "1               1986_NBA_Finals   \n",
       "2               1986_NBA_Finals   \n",
       "3               1986_NBA_Finals   \n",
       "4               1986_NBA_Finals   \n",
       "\n",
       "                                               lines  unique_id  \n",
       "0  The following are the football soccer events o...          0  \n",
       "1  The 1986 NBA Finals was the championship round...          1  \n",
       "2  It pitted the Eastern Conference champion Bost...          2  \n",
       "3  The Celtics defeated the Rockets four games to...          3  \n",
       "4  The championship would be the Celtics ' last u...          4  "
      ]
     },
     "execution_count": 80,
     "metadata": {},
     "output_type": "execute_result"
    }
   ],
   "source": [
    "wiki_df.head()"
   ]
  },
  {
   "cell_type": "code",
   "execution_count": 81,
   "id": "4f503830",
   "metadata": {},
   "outputs": [
    {
     "data": {
      "text/plain": [
       "(1788098, 3)"
      ]
     },
     "execution_count": 81,
     "metadata": {},
     "output_type": "execute_result"
    }
   ],
   "source": [
    "wiki_df.shape"
   ]
  },
  {
   "cell_type": "code",
   "execution_count": 54,
   "id": "f319a49f",
   "metadata": {},
   "outputs": [],
   "source": [
    "wiki_df['unique_id'] = wiki_df['unique_id'].astype(str)\n"
   ]
  },
  {
   "cell_type": "code",
   "execution_count": 55,
   "id": "516de2df",
   "metadata": {},
   "outputs": [],
   "source": [
    "wiki_df = wiki_df.rename(columns={'lines': 'contents'})\n"
   ]
  },
  {
   "cell_type": "code",
   "execution_count": 56,
   "id": "81f6254b",
   "metadata": {},
   "outputs": [],
   "source": [
    "wiki_df = wiki_df.drop(columns=['title'])"
   ]
  },
  {
   "cell_type": "code",
   "execution_count": 57,
   "id": "e7b2549c",
   "metadata": {},
   "outputs": [],
   "source": [
    "wiki_df = wiki_df.rename(columns={'unique_id': 'id'})\n"
   ]
  },
  {
   "cell_type": "code",
   "execution_count": 58,
   "id": "a039c70b",
   "metadata": {},
   "outputs": [],
   "source": [
    "\n",
    "# Convert DataFrame to JSON file\n",
    "wiki_df.to_json('wiki_df.json', orient='records')"
   ]
  },
  {
   "cell_type": "code",
   "execution_count": 13,
   "id": "77868d1f",
   "metadata": {},
   "outputs": [
    {
     "name": "stdout",
     "output_type": "stream",
     "text": [
      "[{'contents': 'The following are the football soccer events of the year 1928 throughout the world . ', 'id': 0}, {'contents': \"The 1986 NBA Finals was the championship round of the 1985 -- 86 NBA season . It pitted the Eastern Conference champion Boston Celtics against the Western Conference champion Houston Rockets , in a rematch of the 1981 Finals only Allen Leavell and Robert Reid remained from the Rockets ' 1981 team . The Celtics defeated the Rockets four games to two to win their 16th NBA championship . The championship would be the Celtics ' last until the 2008 NBA Finals . Larry Bird was named the Finals MVP . On another note , this series marked the first time the  NBA Finals  branding was officially used , as they dropped the  NBA World Championship Series  branding which had been in use since the beginning of the league , though it had been unofficially called the  NBA Finals  for years . Until the 2011 series , this was the last time the NBA Finals had started before June . Since game three , all NBA Finals games have been played in June . Starting with the following year , the NBA Finals would be held exclusively in the month of June . It was also the last NBA Finals series to schedule a game on a Monday until 1999 and also the last NBA Finals game to be played on Memorial Day . CBS Sports used Dick Stockton and Tom Heinsohn as the play-by-play man and color commentator respectively . Meanwhile , Brent Musburger was the host and Pat O'Brien the Rockets ' sideline and Lesley Visser the Celtics ' sideline were the sideline reporters . \", 'id': 1}, {'contents': 'The 1901 Villanova Wildcats football team represented the Villanova University during the 1901 college football season . The Wildcats team captain was John J. Egan . ', 'id': 2}, {'contents': \"The 1992 Northwestern Wildcats team represented Northwestern University during the 1992 NCAA Division I-A football season . In their first year under head coach Gary Barnett , the Wildcats compiled a 3 -- 8 record 3 -- 5 against Big Ten Conference opponents and finished in ninth place in the Big Ten Conference . The team 's offensive leaders were quarterback Len Williams with 2,110 passing yards , Dennis Lundy with 688 rushing yards , and Lee Gissendaner with 846 receiving yards . Gissendaner was also selected by the Associated Press as a first-team wide receiver on the 1992 All-Big Ten Conference football team . \", 'id': 3}, {'contents': 'The 1897 Princeton Tigers football team represented Princeton University in the 1897 college football season . The team finished with a 10 -- 1 record . The Tigers won their first ten games by a combined score of 339 to 0 , but then lost the last game of the season by a 6 -- 0 score against Yale . Two Princeton players , halfback Addison Kelly and end Garrett Cochran , were consensus first-team honorees on the 1897 College Football All-America Team . ', 'id': 4}, {'contents': '1536 in philosophy ', 'id': 5}, {'contents': \"... di terra is the eighth studio album by Italian progressive rock band Banco previously called Banco del Mutuo Soccorso . It 's an entirely instrumental work , recorded together with Orchestra dell ` Unione Musicisti di Roma . The album title , which translates to  of earth ,  is based on a poem by Francesco Di Giacomo , and every song title is a line from the poem . \", 'id': 6}, {'contents': 'On March 14 , 1968 , at home in St. James , the St. James Canadians corralled the Manitoba Junior Hockey League championship , and on March 26 , in Selkirk , the Canadians captured the Turnbull Cup defeating the Central Manitoba Junior Hockey League champions Selkirk Steelers . ', 'id': 7}, {'contents': \"The All-Ireland Senior Hurling Championship of 1998 known for sponsorship reasons as the Guinness Hurling Championship 1998 was the 112th staging of Ireland 's premier hurling competition . Offaly won the championship , beating Kilkenny 2-16 to 1-13 in the final at Croke Park , Dublin . \", 'id': 8}, {'contents': \"The 1942 Pittsburgh Steelers season marked the club 's tenth anniversary as a member of the National Football League NFL . The team improved on their previous season result of 1 -- 9 -- 1 with a record of 7 -- 4 -- 0 , which was good enough for 2nd place in the NFL East . This was the franchise 's first ever winning record . For the second straight year , the team held training camp in Hershey , Pennsylvania . \", 'id': 9}, {'contents': 'The 1936 Argentine Primera División was the 45 ° season of top-flight football in Argentina . Two regular championships were disputed that year ,  Copa de Honor  won by San Lorenzo de Almagro and  Copa Campeonato  won by River Plate . At the end of the season , both champions , River and San Lorenzo , played a single match for the  Copa de Oro  trophy . River Plate won the match , that would be recognised as an additional league title . ', 'id': 10}, {'contents': 'The 1937 New York Giants season was the thirteenth season for the club in the National Football League NFL . ', 'id': 11}, {'contents': 'The 1924 Argentine Primera División was the 33 ° season of top-flight football in Argentina . The AFA season began on April 13 and ended on January 4 , 1925 ; while the AAmF began on April 6 and ended on February 15 , 1925 . ', 'id': 12}, {'contents': 'The 1978 RTHK Top 10 Gold Songs Awards Chinese : 1978年度十大中文金曲得獎 was held in 1978 for the 1977 music season . ', 'id': 13}, {'contents': 'The Copa del Generalísimo 1958 is the 56th staging of the Spanish Cup . The competition began on May 18 , 1958 , and concluded on June 29 , 1958 , with the final . ', 'id': 14}, {'contents': 'The 1891 Scottish Cup Final was played on 7 February 1891 at the second Hampden Park now known as Cathkin Park in Glasgow and was the final of the 18th season of the Scottish Cup . Hearts and Dumbarton contested the match . Hearts won the match 1 -- 0 , thanks to a 15th-minute goal from Willie Mason . ', 'id': 15}, {'contents': \"The 1934 Rose Bowl , played on January 1 , 1934 , was an American football bowl game . It was the 20th Rose Bowl Game . The Columbia Lions defeated the Stanford Indians now Cardinal 7-0 . Cliff Montgomery , the Columbia quarterback , was named the Rose Bowl Player Of The Game when the award was created in 1953 and selections were made retroactively . At 35,000 , it has the lowest attendance in the Rose Bowl game since the Rose Bowl Stadium was built in 1922 . This was one of the few rainy New Year 's Day celebrations in Pasadena , California . Rain three days before had turned the Rose Bowl stadium into a small lake . \", 'id': 16}, {'contents': \"The 1997 WCHA Men 's Ice Hockey Tournament was the 38th conference playoff in league history and 45th season where a WCHA champion was crowned . The tournament was played between March 7 and March 15 , 1997 . First round games were played at home team campus sites while all ` Final Five ' matches were held at the Civic Center in St. Paul , Minnesota . By winning the tournament , North Dakota was awarded the Broadmoor Trophy and received the WCHA 's automatic bid to the 1997 NCAA Division I Men 's Ice Hockey Tournament . \", 'id': 17}, {'contents': \" I 'm Not Your Steppin ' Stone  is a rock song by Tommy Boyce and Bobby Hart . It was first recorded by Paul Revere & the Raiders and appeared on their album Midnight Ride , released in May 1966 . The song is simple musically , with a repeating verse chord progression of E major , G major , A major and C major , and a repeating bridge in cut time of E major , G major , A major , and G major . \", 'id': 18}, {'contents': 'The 1970 Peach Bowl was a college football bowl game between the Arizona State Sun Devils and the North Carolina Tar Heels . ', 'id': 19}, {'contents': \"The 1903 -- 04 Kentucky Wildcats men 's basketball team competed on behalf of the University of Kentucky during the 1903-1904 season . During the season , Kentucky would continue to struggle under the leadership of senior Claire Saint John . The Wildcats would only win one game against the Cincinnati Bearcats men 's basketball and lose all four games to Kentucky University and Georgetown College . \", 'id': 20}, {'contents': 'The 122nd New York Volunteer Infantry known as the  Onondagas  , was an infantry regiment in the Union Army during the American Civil War . ', 'id': 21}, {'contents': 'The 1953 All-Big Seven Conference football team consists of American football players chosen by various organizations for All-Big Seven Conference teams for the 1953 college football season . The selectors for the 1953 season included the Associated Press AP and the United Press UP . Players selected as first-team honorees by both the AP and UP are displayed in bold . ', 'id': 22}, {'contents': 'The following lists events that happened during 1998 in Libya . ', 'id': 23}, {'contents': 'The 1951 Baylor Bears football team represented Baylor University in the 1951 NCAA college football season . The Bears finished with an 8-2-1 record and were ranked # 9 in the final AP poll . Four players - Larry Isbell Quarterback , Stanley Williams End , Bill Athey Guard and Ken Casner Tackle - were awarded All-American Status . They lost to the Georgia Tech Yellow Jackets football team in the Orange Bowl on January 1 , 1952 . ', 'id': 24}, {'contents': \"The 13th parallel north is a circle of latitude that is 13 degrees north of the Earth 's equatorial plane . It crosses Africa , Asia , the Indian Ocean , the Pacific Ocean , Central America , the Caribbean and the Atlantic Ocean . At this latitude the sun is visible for 12 hours , 53 minutes during the summer solstice and 11 hours , 22 minutes during the winter solstice . \", 'id': 25}, {'contents': \"The 1992 Phoenix Cardinals season was the 73rd season the team was in the National Football League NFL . The team matched their previous output of 4 -- 12 . The Cardinals failed to qualify to the playoffs for the tenth straight season . Two of the Cardinals ' victories came at the expense of playoff-bound teams . Phoenix defeated the defending Super Bowl champion Redskins in week five , and in week nine , the Cards toppled the 49ers , who finished the regular season with the NFL 's best record of 14 -- 2 . \", 'id': 26}, {'contents': \"The 1969 -- 70 DDR-Oberliga was the 21st season of the DDR-Oberliga , the first tier of league football in East Germany . The league was contested by fourteen teams . FC Carl Zeiss Jena won the championship , the club 's last of three East German championships . Otto Skrowny of BSG Chemie Leipzig was the league 's top scorer with 12 goals , the lowest total of any top scorer in the history of the league , while Roland Ducke of FC Carl Zeiss Jena won the seasons East German Footballer of the year award . The 452 goals scored during the season marked the lowest total in the history of the DDR-Oberliga , as did the 2.48 goal average per game . On the strength of the 1969 -- 70 title Jena qualified for the 1970 -- 71 European Cup where the club was knocked out by Red Star Belgrade in the quarter finals . Second-placed club FC Vorwärts Berlin qualified for the 1970 -- 71 European Cup Winners ' Cup as the seasons FDGB-Pokal winner and was knocked out by PSV Eindhoven in the quarter finals . Third-placed Dynamo Dresden qualified for the 1970 -- 71 Inter-Cities Fairs Cup where it was knocked out in the second round by Leeds United . The 1969 -- 70 season marked the half-way point for the DDR-Oberliga , with 21 seasons played and another 21 to come . Of the champions of the first 21 seasons only Dynamo Dresden won a championship in the second 21 which were dominated by Dresden , 1 . FC Magdeburg and Berliner FC Dynamo . \", 'id': 27}, {'contents': 'Lisa Raymond and Rennae Stubbs were the defending champions but lost in the first round to Katrina Adams and Debbie Graham . Alexandra Fusai and Nathalie Tauziat won in the final 6 -- 3 , 6 -- 2 against Lindsay Davenport and Monica Seles . ', 'id': 28}, {'contents': \"The 11th Congress of the Communist Party of the Soviet Union was held during 27 March - 2 April 1922 in Moscow . The congress elected the 11th Central Committee . During the 11th Congress , Leon Trotsky attacked Sergey Ivanovich Gusev and Mikhail Frunze over Red Army policies , specifically matters of discipline , political doctrine , and relations with the peasantry . Trotsky lost the debate , which resulted in a discrediting of civilian critics of the Red Army . As a result , civilians were increasingly locked out of military-related resolutions following the 11th Congress . The most far-reaching event was the appointment of Joseph Stalin as the party 's first General Secretary . Bukharin and Rykov were promoted to the Politburo . Both were allies of Stalin against the left wing of the party who wanted the NEP ended . \", 'id': 29}, {'contents': \"The following is a list of notable machinima-related events in the year 1996 . These include the release of id Software 's first-person shooter computer game Quake . This game was used to create the first machinima works later that year . \", 'id': 30}, {'contents': 'The 1994 NHL Entry Draft was held at the Hartford Civic Center now XL Center on June 28 -- 29 , 1994 . ', 'id': 31}, {'contents': 'Events in the year 1859 in Argentina . ', 'id': 32}, {'contents': \"The 1998 -- 99 Hong Kong First Division League season is the 87th since its establishment . The first match was played on 30 August 1998 with Instant-Dict drew South China 2 -- 2 . However , as there was a suspended player played in Instant-Dict 's squad , the team was penalised by losing 0 -- 3 . \", 'id': 33}, {'contents': \"The 1992 Soviet Cup Final was a football match that took place at the Luzhniki Stadium , Moscow , on 10 May 1992 . The country Soviet Union as well as all its government and public organizations such as the Football Federation of USSR were abandoned . Therefore , the game was administered by the Russian Football Union . The match was the 51st Soviet Cup Final and it was contested by FC Spartak Moscow and PFC CSKA Moscow . The Soviet Cup winner Spartak qualified for the Cup Winners ' Cup first round for the Russian Federation . Spartak played their 15th Cup Final winning on 10 occasions including this one . CSKA came to the final as the defending champions and it was their eighth Cup Final and for the third time they were defeated at this stage . \", 'id': 34}, {'contents': 'Events from the year 1739 in Scotland . ', 'id': 35}, {'contents': 'The knockout stage of the 1998 -- 99 UEFA Champions League began on 3 March 1999 and ended with the final at the Camp Nou in Barcelona on 26 May 1999 . The eight teams from each of the six groups in the group stage competed in the knockout stage . For the quarter-finals , each group winner was randomly drawn against the runner-up from another group . The four quarter-final winners were then drawn together for the semi-finals , the winners of which contested the final . Each quarter-final and semi-final was played over two legs , with each team playing one leg at home ; the team that scored the most goals over the two legs qualified for the following round . In the event that the two teams scored the same number of goals over the two legs , the team that scored more goals away from home qualified for the next round ; if both teams scored the same number of away goals , matches would go to extra time and then penalties if the teams could not be separated after extra time . ', 'id': 36}, {'contents': '1993-94 was the 19th season that Division 1 operated as the second tier of ice hockey in Sweden , below the top-flight Elitserien now the SHL . ', 'id': 37}, {'contents': 'The 1998 -- 99 FAW Premier Cup was the second season of the tournament since its founding in 1997 . ', 'id': 38}, {'contents': \"The 1999-00 Luxembourg Championship season was the fourth season of Luxembourg 's hockey league . Three teams participated in the league regular season . The top team from the regular season , Lokomotiv Luxembourg , qualified for the final to play Tornado Luxembourg . \", 'id': 39}, {'contents': 'The 1995 -- 96 Northern Premier League season was the 28th in the history of the Northern Premier League , a football competition in England . Teams were divided into two divisions ; the Premier and the First . It was known as the Unibond League for sponsorship reasons . ', 'id': 40}, {'contents': 'The 1948 Coupe de France Final was a football match held at Stade Olympique Yves-du-Manoir , Colombes on May 10 , 1948 , that saw Lille OSC defeat RC Lens 3 -- 2 thanks to goals by Roger Vandooren and Jean Baratte 2 . ', 'id': 41}, {'contents': 'The 1985 Amstel Gold Race was the 20th edition of the annual road bicycle race  Amstel Gold Race  , held on Sunday April 27 , 1985 , in the Dutch province of Limburg . The race stretched 242 kilometres , with the start in Heerlen and the finish in Meerssen . There were a total of 146 competitors , and 25 cyclists finished the race . ', 'id': 42}, {'contents': \"The 1994 Calgary Stampeders ' finished in 1st place in the West Division with a 15 -- 3 record . They appeared in the West Final but lost to the eventual Grey Cup champions BC Lions . \", 'id': 43}, {'contents': 'Mersin İdmanyurdu also Mersin İdman Yurdu , Mersin İY , or MİY Sports Club ; located in Mersin , east Mediterranean coast of Turkey in 1964-1965 . The 1964 -- 65 season was the 2nd season of Mersin İdmanyurdu football team in Second League , the second level division in Turkey . The team finished 1964 -- 65 Second League at third place . The team also participated in 1964 -- 65 Turkish Cup Türkiye Kupası and was eliminated at third round . The club name was Çukurova İdmanyurdu due to sponsorship reasons . The president of the club was Mehmet Karamehmet . Head coach was İlhan Taşucu . The season started with Spor-Toto Cup games in August 1964 and ended with the last round game on 3 April 1965 . The most appeared player was Hüseyin İlgin , while top goalscorer was Alp Sümeralp . ', 'id': 44}, {'contents': \"The men 's triple jump event at the 1988 European Athletics Indoor Championships was held on 6 March . \", 'id': 45}, {'contents': 'Events in the year 1907 in Brazil . ', 'id': 46}, {'contents': 'The 1971 Myers Brothers 250 was a NASCAR Winston Cup Series event that took place on August 6 , 1971 , at Bowman Gray Stadium in the American community of Winston-Salem , North Carolina . ', 'id': 47}, {'contents': 'These are the late night Monday-Friday schedules on all three networks for each calendar season beginning September 1988 . All times are Eastern/Pacific . Talk/variety shows are highlighted in yellow , network news programs in gold , and local news & programs are highlighted in white background . ', 'id': 48}, {'contents': 'The 1969 Texas Longhorns football team represented the University of Texas at Austin in the 1969 college football season . The Longhorns won all of their games to finish 11 -- 0 and win their second consensus national championship in school history . The first title was six seasons earlier , in 1963 . The 1969 team is the last all-white team to be named consensus national champions with the onset of racial integration . Julius Whittier , the first African-American player in Texas football history , was enrolled at UT as a Freshman , but not eligible to play due to NCAA rules barring freshmen from playing varsity football and basketball . ', 'id': 49}, {'contents': 'Events from the year 1717 in France ', 'id': 50}, {'contents': 'The 140th Infantry Regiment was an infantry regiment of the United States Army , Missouri Army National Guard . It is one of the few US Army regiments that trace its heritage to historic regiments of the Confederate States Army , the 6th Missouri Infantry . They continued to serve through the Spanish -- American War , World War I , and World War II before its deactivation in 1963 . ', 'id': 51}, {'contents': 'The 1933 Chicago Cubs season was the 62nd season of the Chicago Cubs franchise , the 58th in the National League and the 18th at Wrigley Field . The Cubs finished third in the National League with a record of 86 -- 68 . ', 'id': 52}, {'contents': \"19383 Rolling Stones 1998 BZ32 is a main-belt asteroid discovered on January 29 , 1998 , by the OCA-DLR Asteroid Survey at Caussols . It has been named in honor of the English musical group The Rolling Stones . The asteroid 's name is unusual in that it is expressed as two words , instead of  Rollingstones  which is the format used by most other minor planets named for individuals or groups although the asteroid named after Pink Floyd is also expressed as two words . \", 'id': 53}, {'contents': 'This is a list of notable events in country music that took place in the year 1935 . ', 'id': 54}, {'contents': \"The 100th Air Refueling Wing 100 ARW is a United States Air Force unit assigned to the Third Air Force , United States Air Forces in Europe - Air Forces Africa . It is stationed at RAF Mildenhall , England . It is also the host wing at RAF Mildenhall . The 100 ARW is the only permanent U.S. air refueling wing in the European theater . During World War II , its predecessor unit , the 100th Bombardment Group Heavy , was an Eighth Air Force B-17 Flying Fortress unit in England , stationed at RAF Thorpe Abbotts . Flying over 300 combat missions , the group earned two Distinguished Unit Citations Regensburg , 17 August 1943 ; Berlin , 4/6/8 March 1944 . The group suffered tremendous losses in combat , with 177 Aircraft MIA , flying its last mission on 20 April 1945 . One of the wing 's honors is that it is the only modern USAF operational wing allowed to display on its assigned aircraft the tail code Square-D of its World War II predecessor . \", 'id': 55}, {'contents': \"Patty Fendick and Ann Henricksson were the defending doubles tennis champions at the 1989 Taipei Women 's Championship , but only Henricksson competed that year , with Beth Herr . They lost in the first round to Cecilia Dahlman and Nana Miyagi . Maria Lindström and Heather Ludloff won the final 4 -- 6 , 7 -- 5 , 6 -- 3 against Dahlman and Miyagi . \", 'id': 56}, {'contents': 'S.S. Lazio finished 9th in Serie A this season . ', 'id': 57}, {'contents': 'The 1890 Yale Bulldogs football team represented Yale University in the 1890 college football season . The Bulldogs finished with a 13 -- 1 record under third-year head coach Walter Camp , who became known as the  Father of American Football  . The 1890 team recorded 12 shutouts and outscored its opponents by a combined score of 486 to 18 . Its only loss was to rival Harvard by a 12 -- 6 score . Three Yale players halfback Thomas McClung , guard Pudge Heffelfinger , and tackle William Rhodes were consensus picks for the 1890 College Football All-America Team . All three have also been inducted into the College Football Hall of Fame ', 'id': 58}, {'contents': \"The 1972 -- 73 Chicago Black Hawks season was the Hawks ' 47th season in the NHL , and the club was coming off their third consecutive first-place finish in 1971 -- 72 , as they finished on top of the West Division with a 46 -- 17 -- 15 record , tying a club record with 107 points . The Hawks swept the Pittsburgh Penguins in the NHL quarter-finals before they were swept by the New York Rangers in the semi-finals . During the off-season , the Black Hawks lost Bobby Hull to the Winnipeg Jets in the newly created World Hockey Association , who signed him to the first $ 1 million contract in hockey history . The NHL also expanded once again , as the New York Islanders would join the East Division , while the Atlanta Flames would be placed in the West . Chicago , dealing with the lost of Hull , got off to a quick start of the season , winning their first four games , before sliding into a slump that saw their record fall to 7 -- 7 -- 2 . The club would break out of their slump , and win 14 of their next 18 games , and take hold of the top spot in the West Division . The Hawks then cruised to their fourth straight first-place finish , as they had a record of 42 -- 27 -- 9 , earning 93 points , which was their lowest point total since missing the playoffs in the 1968 -- 69 season . Offensively , the Black Hawks were led by Jim Pappin , who had a career season , scoring 41 goals and 92 points . Pit Martin also stepped up , earning 61 assists and 90 points , while Dennis Hull scored 39 goals and 90 points . Stan Mikita had a very solid year , earning 83 points despite missing 21 games due to injuries . Bill White lead the defense , registering 47 points , while Pat Stapleton scored 10 goals and 31 points . Rookie Phil Russell had a team high 156 penalty minutes , and had a +31 rating , which tied him with Mikita for the team lead . In goal , Tony Esposito led the club with 32 victories and a 2.51 GAA , along with four shutouts while appearing in 56 games . Backup goaltender Gary Smith won 10 games while having a 3.54 GAA . The Hawks opened the playoffs against the St. Louis Blues , who had a record of 32 -- 34 -- 12 , earning 76 points , while placing fourth in the West Division . The series opened with two games at Chicago Stadium , and the Black Hawks easily defeated the Blues in the series opener , winning 7 -- 1 , before shutting out St. Louis 1 -- 0 in the second game to take an early series lead . The series shifted to the St. Louis Arena for the next two games , however , Chicago took a 3 -- 0 series lead , winning 5 -- 2 in the third game , but the Blues avoided the sweep , winning 5 -- 3 in the fourth game . Chicago returned home for the fifth game , and easily took care of St. Louis , thumping the Blues 6 -- 1 to win the series . Chicago 's next opponent was the New York Rangers , who had finished the season with a 47 -- 23 -- 8 record , earning 102 points , and a third-place finish in the East Division . The Rangers defeated the defending Stanley Cup champions , the Boston Bruins in their first playoff series . Since the Black Hawks won their division , they were given home ice advantage in the series . The series opened up with two games at Chicago Stadium , but it was the Rangers who struck first , winning the series opener by a 4 -- 1 score . The Black Hawks rebounded in the second game , holding off New York for a 5 -- 4 victory to even the series . The series moved to Madison Square Garden for the next two games , and it would be the Hawks who took control of the series , defeating the Rangers 2 -- 1 and 3 -- 1 to take a 3 -- 1 series lead back to Chicago for the fifth game . The Black Hawks stayed hot , and easily beat the Rangers 4 -- 1 to win the series and advance to the Stanley Cup finals for the second time in three years . The Hawks opponent in the 1973 Stanley Cup finals was the Montreal Canadiens , who were the best team in the league during the regular season , as they had a 52 -- 10 -- 16 record , earning 120 points . The Canadiens had defeated the Buffalo Sabres and Philadelphia Flyers to earn a spot in the finals . The series opened at the Montreal Forum , and the powerful Canadiens easily won the first game by an 8 -- 3 score , followed by a 4 -- 1 win in the second game to take a 2 -- 0 series lead . The finals shifted to Chicago Stadium for the next two games , and the Hawks cut into the Canadiens series lead with a 7 -- 4 victory in the third game . Montreal rebounded in the fourth game though , shutting out Chicago 4 -- 0 to take a 3 -- 1 series lead . The fifth game returned to Montreal , however , the Black Hawks stayed alive with a wild 8 -- 7 victory , cutting the Canadiens lead to 3 -- 2 in the series . In the sixth game back in Chicago , Montreal would rebound , defeating the Hawks 6 -- 4 to win the Stanley Cup . \", 'id': 59}, {'contents': 'The 1998 Croatia Open Umag was a tennis tournament played on outdoor clay courts in Umag , Croatia that was part of the International Series of the 1998 ATP Tour . The tournament was held from July 27 through August 2 , 1998 . ', 'id': 60}, {'contents': \"The 1944 Illinois Fighting Illini football team was an American football team that represented the University of Illinois during the 1944 Big Ten Conference football season . In their third year under head coach Ray Eliot , the Illini compiled a 5 -- 3 -- 1 record , were ranked # 15 in the final AP Poll , and finished in sixth place in the Big Ten Conference . The team lost three games to teams ranked in the top 10 in the AP Poll : # 9-ranked Notre Dame 7 -- 13 ; # 8-ranked Michigan 0 -- 14 ; and # 2-ranked Ohio State 12 -- 26 . Halfback Buddy Young was selected as the team 's most valuable player . \", 'id': 61}, {'contents': 'Mark Keil and Jeff Tarango were the defending champions but only Tarango competed that year with David Ekerot . Ekerot and Tarango won in the final 7 -- 6 , 7 -- 6 against David Adams and Menno Oosting . ', 'id': 62}, {'contents': \"1789 Dobrovolsky , provisional designation , is a Florian asteroid from the inner regions of the asteroid belt , approximately 8 kilometers in diameter . It was discovered on 19 August 1966 , by Russian astronomer Lyudmila Chernykh at the Crimean Astrophysical Observatory in Nauchnyj on the Crimean peninsula . The asteroid is a member of the Flora family , a large group of stony S-type asteroids in the inner main-belt . It orbits the Sun at a distance of 1.8 -- 2.6 AU once every 3 years and 3 months 1,203 days . Its orbit has an eccentricity of 0.19 and an inclination of 2 ° with respect to the ecliptic . First identified as at Johannesburg , the body 's first used observation was taken at Nice Observatory in 1943 , when Dobrovolsky was identified as , extending its observation arc by 23 years prior to its official discovery observation . The so-far best rated rotational light-curve of Dobrovolsky was obtained from photometric observations by American astronomer Brian A. Skiff in March 2011 . It gave a rotation period of 4.812 hours with a brightness variation of 0.13 magnitude . Other light-curves were obtained by Claes-Ingvar Lagerkvist in 1973 and at the Palomar Transient Factory in 2014 , giving a period of 5.8 , 4.800 and 4.8111 hours , respectively . A international study from February 2016 , published a modeled period of 4.811096 hours . According to the survey carried out by NASA 's Wide-field Infrared Survey Explorer with its subsequent NEOWISE mission , Dobrovolsky measures 7.92 kilometers in diameter and its surface has an albedo of 0.185 best result , while the Collaborative Asteroid Lightcurve Link assumes an albedo of 0.24 -- derived from 8 Flora , the largest member and namesake of its family -- and calculates a diameter of 9.85 kilometers based on an absolute magnitude of 12.2 . This minor planet was named in honor of Ukrainian -- Soviet cosmonaut Georgiy Timofeyevich Dobrovolsky , commander of the Soyuz 11 spacecraft , who died on 30 June 1971 during the vehicle 's return to Earth after completing the flight program of the first manned orbital station , Salyut . The subsequently numbered minor planets 1790 Volkov and 1791 Patsayev were named in honour of his dead crew members . The names of all three cosmonauts are also engraved on the plaque next to the sculpture of the Fallen Astronaut on the Moon , which was placed there during the Apollo 15 mission , containing the names of eight American astronauts and six Soviet cosmonauts , who had all died in service . Naming citation was published before November 1977 . \", 'id': 63}, {'contents': 'Statistics of Maltese Premier League in season 1928/1929 . ', 'id': 64}, {'contents': \"The 1909 St. Louis Cardinals season was the team 's 28th season in St. Louis , Missouri and the 18th season in the National League . The Cardinals went 54 -- 98 during the season and finished 7th in the National League . \", 'id': 65}, {'contents': \"The 1991 Arab Athletics Championships was the seventh edition of the international athletics competition between Arab countries . It took place in Latakia , Syria from 1 -- 4 October . A total of 39 athletics events were contested , 23 for men and 16 for women . The marathon race was held on a short course in Latakia , and was ultimately dropped at the following edition . The men 's 50 kilometres race walk introduced in 1987 was removed from the programme , while the women 's 100 metres hurdles was not held due to a lack of entries . The women 's 10,000 metres and marathon , which were held in 1989 , did not return on this occasion . \", 'id': 66}, {'contents': '153298 Paulmyers is an asteroid discovered on March 29 , 2001 by David Healy at Junk Bond Observatory . It is named after biologist and prominent blogger PZ Myers . ', 'id': 67}, {'contents': \"Nationality words link to articles with information on the nation 's poetry or literature for instance , Irish or France . \", 'id': 68}, {'contents': \"The 1998 Waldbaum 's Hamlet Cup was a men 's tennis tournament played on Hard courts in Long Island , United that was part of the International Series of the 1995 ATP Tour . It was the tenth edition of the tournament and was held from 21 -- 27 August 1998 . \", 'id': 69}, {'contents': 'The 1961 U.S. National Championships now known as the US Open was a tennis tournament that took place on the outdoor grass courts at the West Side Tennis Club , Forest Hills in New York , United States . The tournament ran from 1 September until 10 September . It was the 81st staging of the U.S. National Championships , and the fourth Grand Slam tennis event of 1961 . ', 'id': 70}, {'contents': \"The 1987 Football League Cup Final was a football match played on 5 April 1987 between Arsenal and Liverpool . The match , played in front of 96,000 spectators at Wembley Stadium , was won by Arsenal 2 -- 1 . Ian Rush opened the scoring for Liverpool , before Charlie Nicholas equalised , turning in a cross in a crowded penalty area . Nicholas was credited with scoring the winning goal in the second half from a Perry Groves cross . His off-target shot deflected off Ronnie Whelan and was diverted past Liverpool goalkeeper Bruce Grobbelaar 's outstretched hand . Arsenal also finished fourth in the First Division , but were unable to compete in the 1987 -- 88 UEFA Cup as UEFA voted for the ban in English clubs in European competitions to continue for a third season . Ian Rush 's consolation goal was his first goal to be scored on the losing side in any competition . It ended Liverpool 's 144-match unbeaten streak in matches he had scored in . \", 'id': 71}, {'contents': 'The 1949 Chicago Bears season was their 30th regular season completed in the National Football League . The club posted a competitive 9 -- 3 record under head coach George Halas , but the team finished in second place in the NFL Western Division for a third time missing out on a chance to add more league titles to their trophy case . ', 'id': 72}, {'contents': \"The 1975 Giro d'Italia was the 59th running of the Giro d'Italia , one of cycling 's Grand Tours races . The Giro started in Milan , on 17 May , with a set of split stages and concluded with a summit finish to the Passo dello Stelvio , on 7 June , with another split stage , consisting of an individual time trial and a mass-start stage . A total of 90 riders from nine teams entered the 22-stage race , that was won by Italian Fausto Bertoglio of the Jolly Ceramica team . The second and third places were taken by Spaniard Francisco Galdós and Italian Felice Gimondi , respectively . Amongst the other classifications that the race awarded , Brooklyn 's Roger De Vlaeminck won the points classification and Andrés Oliva and Francisco Galdós of KAS won the mountains classification . Brooklyn finished as the winners of the team points classification . \", 'id': 73}, {'contents': \"The 1990 Big South Conference Men 's Basketball Tournament took place from March 1 -- 3 , 1990 at the Winthrop Coliseum in Rock Hill , South Carolina . For the first time in their school history , the Coastal Carolina Chanticleers won the tournament , led by head coach Russ Bergman . \", 'id': 74}, {'contents': \"The 1925 European Figure Skating Championships were the European Figure Skating Championships of the 1924-1925 season . Elite senior-level figure skaters from European ISU Member Nations competed for the title of European Champion . Skaters competed in the discipline of men 's singles . In 1925 , the European Championships were held in Triberg , Germany . \", 'id': 75}, {'contents': 'The 15th Air Defense Division Serbo-Croatian : 15 . divizija protivvazdušne odbrane / 15 . дивизија противваздушне одбране was an air defense division established in 1964 5th Air Defense Zone Serbo-Croatian : 5 . zona protivvazdušne odbrane / 5 . зона противваздушне одбране . ', 'id': 76}, {'contents': \"The men 's javelin throw at the 1950 European Athletics Championships was held in Bruxelles , Belgium , at Stade du Heysel on 26 and 27 August 1950 . \", 'id': 77}, {'contents': 'See also : 1910 in Australia , other events of 1911 , 1912 in Australia and the Timeline of Australian history . ', 'id': 78}, {'contents': 'The 1987 Jade Solid Gold Best Ten Music Awards Presentation Chinese : 1987年度十大勁歌金曲頒獎典禮 was held on January 1988 . It is part of the Jade Solid Gold Best Ten Music Awards Presentation series held in Hong Kong . ', 'id': 79}, {'contents': \"The 1998 -- 99 NBA season was the Warriors ' 53rd season in the National Basketball Association , and 37th in the San Francisco Bay Area . In the 1998 NBA draft , the Warriors selected Vince Carter out of the University of North Carolina with the fifth pick , but soon traded him to the Toronto Raptors for his college teammate Antawn Jamison . They also acquired John Starks , Chris Mills and Terry Cummings from the New York Knicks during the offseason . After losing their first five games , the Warriors started to show signs of improvement in a lockout shortened season . Despite playing 32 games fewer , they won two more games than the previous year , finishing sixth in the Pacific Division with a 21 -- 29 record . Following the season , Bimbo Coles was traded to the Atlanta Hawks , Muggsy Bogues signed as a free agent with the Toronto Raptors , and Tony Delk signed with the Sacramento Kings . \", 'id': 80}, {'contents': 'The 1946 Cincinnati Reds season was a season in American baseball . The team finished sixth in the National League with a record of 67 -- 87 , 30 games behind the St. Louis Cardinals . ', 'id': 81}, {'contents': 'The 1988 Argentina rugby union tour of France was a series of eight matches played by the Argentina national rugby union team in October and November 1988 . ', 'id': 82}, {'contents': 'The 1897 Navy Midshipmen football team represented the United States Naval Academy during the 1897 college football season . In their first season under head coach Bill Armstrong , the Midshipmen compiled an 8 -- 1 record , shut out seven opponents , and outscored all opponents by a combined score of 111 to 34 . The Army -- Navy Game was canceled due to Presidential cabinet order . ', 'id': 83}, {'contents': 'John McEnroe was the defending champion but lost in the quarterfinals to Kevin Curren . Curren also defeated Jimmy Connors in the semifinal and became the first player ever to defeat both Connors and McEnroe in the same Grand Slam tournament . Boris Becker won the final 6 -- 3 , 6 -- 7 , 7 -- 6 , 6 -- 4 against Curren becoming the first unseeded player and the first German to win the Wimbledon singles title as well as the youngest ever male Grand Slam singles champion at 17 years , 227 days . This record would eventually be broken by Michael Chang at the 1989 French Open . ', 'id': 84}, {'contents': \"The 1907 Romanian Peasants ' revolt took place between 21 February and 5 April 1907 . It started in northern Moldavia and , after three weeks in which it was localized in that area , it quickly spread , reaching Wallachia , including as far as Oltenia . The main cause was discontent of the peasants about the inequity of land ownership , which was in the hands of just a few large landowners . Following the fall of the Conservative Party government on March 12 , the new Liberal government crushed the revolt violently with the help of the Romanian Army , killing thousands of peasants in the process . \", 'id': 85}, {'contents': \"The women 's 10,000 metres event featured at the 1993 World Championships in Stuttgart , Germany . There were a total number of 42 participating athletes , with two qualifying heats and the final being held on 21 August 1993 . \", 'id': 86}, {'contents': \"In military terms , 150th Division or 150th Infantry Division may refer to : 150th Division People 's Republic of China 150th Rifle Division Soviet Union \", 'id': 87}, {'contents': \"1786 in sports describes the year 's events in world sport . \", 'id': 88}, {'contents': 'The 1848 Marlborough earthquake was a magnitude 7.4 ML earthquake that occurred at 1:40 a.m. on 16 October 1848 and whose epicenter was in the Marlborough region of the South Island of New Zealand . In Wellington the shaking lasted for about two minutes and caused widespread damage , especially to brick or stone structures . Most of the buildings damaged in the earthquake were rebuilt in wood and this contributed to the relatively low level of damage and loss of life in the more powerful Wairarapa earthquake that hit Wellington seven years later . ', 'id': 89}, {'contents': 'The 1963 European Cup Final was a football match between Milan and Benfica , held at Wembley Stadium , London , on 22 May 1963 . Milan won the match 2 -- 1 , winning the European Cup for the first time . ', 'id': 90}, {'contents': \"The 1985 Boston Red Sox season was the 85th season in the franchise 's Major League Baseball history . The Red Sox finished fifth in the American League East with a record of 81 wins and 81 losses , 18 1/2 games behind the Toronto Blue Jays . \", 'id': 91}, {'contents': \"Steffi Graf successfully defended her tile , defeating Monica Seles 7 -- 5 , 6 -- 4 in the final to win the Women 's Singles title at the 1996 US Open . It was a rematch of the 1995 US Open final , where Graf defeated Seles in three sets . It also marked the final time Seles and Graf would play each other at the US Open . The 1996 U.S Open proved to be the last for Gabriela Sabatini , as she retired later that year . Sabatini was twice a finalist at the U.S Open . In the 1988 US Open final , Sabatini lost to Graf in three sets . Two years later , at the 1990 US Open , Sabatini defeated Graf in two sets to win her only Grand Slam title . \", 'id': 92}, {'contents': 'The Irish League in season 1930 -- 31 comprised 14 teams , with Glentoran winning the championship . ', 'id': 93}, {'contents': 'The 1972 Belgian Grand Prix was a Formula One motor race held at Nivelles on 4 June 1972 . It was the fifth race of the 1972 Formula One season . The 85-lap race was won by Lotus driver Emerson Fittipaldi after he started from pole position . François Cevert finished second for the Tyrrell team and McLaren driver Denny Hulme came in third . ', 'id': 94}, {'contents': 'Year 1140 MCXL was a leap year starting on Monday link will display the full calendar of the Julian calendar . ', 'id': 95}, {'contents': \"The 1967 -- 68 Indiana State Sycamores men 's basketball team represented Indiana State University during the 1968 NCAA Men 's Division II Basketball Tournament . The Sycamores won 19 games in the regular season and were led by Jerry Newsom . He led the Sycamores to the national title game versus a George Tinsley-led Kentucky Wesleyan team , and ended the season as National Runner-Up with a record of 23 -- 8 . \", 'id': 96}, {'contents': \"The women 's triple jump event at the 1993 IAAF World Indoor Championships was held on 13 and 14 March . \", 'id': 97}, {'contents': 'In enzymology , a 15-hydroxyicosatetraenoate dehydrogenase is an enzyme that catalyzes the chemical reaction 15S -15 - hydroxy-5 ,8,11 - cis-13-trans-icosatetraenoate + NAD P + 15-oxo-5 ,8,11 - cis-13-trans-icosatetraenoate + NAD P H + H + The 3 substrates of this enzyme are 15-Hydroxyicosatetraenoic acid i.e. 15 S -15 - hydroxy-5 ,8,11 - cis-13-trans-icosatetraenoate , NAD + , and NADP + , whereas its 4 products are 15-oxo-5 ,8,11 - cis-13-trans-icosatetraenoate , NADH , NADPH , and H + . This enzyme belongs to the family of oxidoreductases , specifically those acting on the CH-OH group of donor with NAD + or NADP + as acceptor . The systematic name of this enzyme class is 15S -15 - hydroxy-5 ,8,11 - cis-13-trans-icosatetraenoate : NAD P + 15-oxidoreductase . This enzyme is also called 15-hydroxyeicosatetraenoate dehydrogenase . This enzyme participates in arachidonic acid metabolism . ', 'id': 98}, {'contents': 'The meridian 110 ° east of Greenwich is a line of longitude that extends from the North Pole across the Arctic Ocean , Asia , the Indian Ocean , the Southern Ocean , and Antarctica to the South Pole . The 110th meridian east forms a great circle with the 70th meridian west . ', 'id': 99}]\n"
     ]
    }
   ],
   "source": [
    "with open('pyserini_format_docs_raw_texts/0.json', 'r') as file:\n",
    "    data = json.load(file)\n",
    "    \n",
    "print(data[:100])"
   ]
  },
  {
   "cell_type": "code",
   "execution_count": 6,
   "id": "db1fbaad",
   "metadata": {},
   "outputs": [
    {
     "name": "stdout",
     "output_type": "stream",
     "text": [
      "1000\n"
     ]
    }
   ],
   "source": [
    "print(len(data))"
   ]
  },
  {
   "cell_type": "code",
   "execution_count": null,
   "id": "7aa993c4",
   "metadata": {},
   "outputs": [],
   "source": []
  }
 ],
 "metadata": {
  "kernelspec": {
   "display_name": "Python faiss_1.7.4",
   "language": "python",
   "name": "faiss_1.7.4"
  },
  "language_info": {
   "codemirror_mode": {
    "name": "ipython",
    "version": 3
   },
   "file_extension": ".py",
   "mimetype": "text/x-python",
   "name": "python",
   "nbconvert_exporter": "python",
   "pygments_lexer": "ipython3",
   "version": "3.10.13"
  }
 },
 "nbformat": 4,
 "nbformat_minor": 5
}
