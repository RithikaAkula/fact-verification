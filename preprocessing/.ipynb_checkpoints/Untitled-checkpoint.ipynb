{
 "cells": [
  {
   "cell_type": "code",
   "execution_count": 1,
   "id": "2fcda929",
   "metadata": {},
   "outputs": [],
   "source": [
    "import pandas as pd\n",
    "import json\n"
   ]
  },
  {
   "cell_type": "code",
   "execution_count": 9,
   "id": "724fb2c3",
   "metadata": {},
   "outputs": [],
   "source": [
    "wiki_df = pd.read_parquet('processed_data/1.parquet')\n"
   ]
  },
  {
   "cell_type": "code",
   "execution_count": 10,
   "id": "7d0c8415",
   "metadata": {},
   "outputs": [
    {
     "data": {
      "text/html": [
       "<div>\n",
       "<style scoped>\n",
       "    .dataframe tbody tr th:only-of-type {\n",
       "        vertical-align: middle;\n",
       "    }\n",
       "\n",
       "    .dataframe tbody tr th {\n",
       "        vertical-align: top;\n",
       "    }\n",
       "\n",
       "    .dataframe thead th {\n",
       "        text-align: right;\n",
       "    }\n",
       "</style>\n",
       "<table border=\"1\" class=\"dataframe\">\n",
       "  <thead>\n",
       "    <tr style=\"text-align: right;\">\n",
       "      <th></th>\n",
       "      <th>title</th>\n",
       "      <th>lines</th>\n",
       "      <th>unique_id</th>\n",
       "    </tr>\n",
       "  </thead>\n",
       "  <tbody>\n",
       "    <tr>\n",
       "      <th>0</th>\n",
       "      <td>Aisling_Judge</td>\n",
       "      <td>[Aisling Judge is an Irish scientist from Kins...</td>\n",
       "      <td>&lt;NA&gt;</td>\n",
       "    </tr>\n",
       "    <tr>\n",
       "      <th>1</th>\n",
       "      <td>Alex_Cole_Taylor</td>\n",
       "      <td>[Alex Taylor is the youngest acting teacher to...</td>\n",
       "      <td>&lt;NA&gt;</td>\n",
       "    </tr>\n",
       "    <tr>\n",
       "      <th>2</th>\n",
       "      <td>Allah_Now_Bazar</td>\n",
       "      <td>[Allah Now Bazar الله نوبازار , also Romanized...</td>\n",
       "      <td>&lt;NA&gt;</td>\n",
       "    </tr>\n",
       "    <tr>\n",
       "      <th>3</th>\n",
       "      <td>American_Association_for_Pediatric_Ophthalmolo...</td>\n",
       "      <td>[The American Association for Pediatric Ophtha...</td>\n",
       "      <td>&lt;NA&gt;</td>\n",
       "    </tr>\n",
       "    <tr>\n",
       "      <th>4</th>\n",
       "      <td>Al-Balawī</td>\n",
       "      <td>[Abū Muḥammad ʿAbdallah ibn Muḥammad ibn ʿUmay...</td>\n",
       "      <td>&lt;NA&gt;</td>\n",
       "    </tr>\n",
       "  </tbody>\n",
       "</table>\n",
       "</div>"
      ],
      "text/plain": [
       "                                               title  \\\n",
       "0                                      Aisling_Judge   \n",
       "1                                   Alex_Cole_Taylor   \n",
       "2                                    Allah_Now_Bazar   \n",
       "3  American_Association_for_Pediatric_Ophthalmolo...   \n",
       "4                                          Al-Balawī   \n",
       "\n",
       "                                               lines  unique_id  \n",
       "0  [Aisling Judge is an Irish scientist from Kins...       <NA>  \n",
       "1  [Alex Taylor is the youngest acting teacher to...       <NA>  \n",
       "2  [Allah Now Bazar الله نوبازار , also Romanized...       <NA>  \n",
       "3  [The American Association for Pediatric Ophtha...       <NA>  \n",
       "4  [Abū Muḥammad ʿAbdallah ibn Muḥammad ibn ʿUmay...       <NA>  "
      ]
     },
     "execution_count": 10,
     "metadata": {},
     "output_type": "execute_result"
    }
   ],
   "source": [
    "wiki_df.head()"
   ]
  },
  {
   "cell_type": "code",
   "execution_count": 23,
   "id": "f319a49f",
   "metadata": {},
   "outputs": [],
   "source": [
    "wiki_df['id'] = 'doc' + wiki_df['index'].astype(str)\n"
   ]
  },
  {
   "cell_type": "code",
   "execution_count": 24,
   "id": "516de2df",
   "metadata": {},
   "outputs": [],
   "source": [
    "wiki_df = wiki_df.rename(columns={'text': 'contents'})\n"
   ]
  },
  {
   "cell_type": "code",
   "execution_count": 25,
   "id": "81f6254b",
   "metadata": {},
   "outputs": [],
   "source": [
    "wiki_df = wiki_df.drop(columns=['title'])"
   ]
  },
  {
   "cell_type": "code",
   "execution_count": 26,
   "id": "e7b2549c",
   "metadata": {},
   "outputs": [],
   "source": [
    "wiki_df = wiki_df.drop(columns=['index'])\n"
   ]
  },
  {
   "cell_type": "code",
   "execution_count": 28,
   "id": "a039c70b",
   "metadata": {},
   "outputs": [],
   "source": [
    "\n",
    "# Convert DataFrame to JSON file\n",
    "wiki_df.to_json('wiki_df.json', orient='records')"
   ]
  },
  {
   "cell_type": "code",
   "execution_count": 29,
   "id": "77868d1f",
   "metadata": {},
   "outputs": [
    {
     "name": "stdout",
     "output_type": "stream",
     "text": [
      "[{'contents': 'following football soccer events year 1928 throughout world', 'id': 'doc0'}, {'contents': '1986 nba finals championship round 1985 86 nba season pitted eastern conference champion boston celtics western conference champion houston rockets rematch 1981 finals allen leavell robert reid remained rockets 1981 team celtics defeated rockets four games two win 16th nba championship championship would celtics last 2008 nba finals larry bird named finals mvp another note series marked first time nba finals branding officially used dropped nba world championship series branding use since beginning league though unofficially called nba finals years 2011 series last time nba finals started june since game three nba finals games played june starting following year nba finals would held exclusively month june also last nba finals series schedule game monday 1999 also last nba finals game played memorial day cbs sports used dick stockton tom heinsohn play play man color commentator respectively meanwhile brent musburger host pat brien rockets sideline lesley visser celtics sideline sideline reporters', 'id': 'doc1'}, {'contents': '1901 villanova wildcats football team represented villanova university 1901 college football season wildcats team captain john j egan', 'id': 'doc2'}, {'contents': '1992 northwestern wildcats team represented northwestern university 1992 ncaa division football season first year head coach gary barnett wildcats compiled 3 8 record 3 5 big ten conference opponents finished ninth place big ten conference team offensive leaders quarterback len williams 2 110 passing yards dennis lundy 688 rushing yards lee gissendaner 846 receiving yards gissendaner also selected associated press first team wide receiver 1992 big ten conference football team', 'id': 'doc3'}, {'contents': '1897 princeton tigers football team represented princeton university 1897 college football season team finished 10 1 record tigers first ten games combined score 339 0 lost last game season 6 0 score yale two princeton players halfback addison kelly end garrett cochran consensus first team honorees 1897 college football america team', 'id': 'doc4'}, {'contents': '1536 philosophy', 'id': 'doc5'}, {'contents': 'di terra eighth studio album italian progressive rock band banco previously called banco del mutuo soccorso entirely instrumental work recorded together orchestra dell unione musicisti di roma album title translates earth based poem francesco di giacomo every song title line poem', 'id': 'doc6'}, {'contents': 'march 14 1968 home st james st james canadians corralled manitoba junior hockey league championship march 26 selkirk canadians captured turnbull cup defeating central manitoba junior hockey league champions selkirk steelers', 'id': 'doc7'}, {'contents': 'ireland senior hurling championship 1998 known sponsorship reasons guinness hurling championship 1998 112th staging ireland premier hurling competition offaly championship beating kilkenny 2 16 1 13 final croke park dublin', 'id': 'doc8'}, {'contents': '1942 pittsburgh steelers season marked club tenth anniversary member national football league nfl team improved previous season result 1 9 1 record 7 4 0 good enough 2nd place nfl east franchise first ever winning record second straight year team held training camp hershey pennsylvania', 'id': 'doc9'}, {'contents': '1936 argentine primera divisi n 45 season top flight football argentina two regular championships disputed year copa de honor san lorenzo de almagro copa campeonato river plate end season champions river san lorenzo played single match copa de oro trophy river plate match would recognised additional league title', 'id': 'doc10'}, {'contents': '1937 new york giants season thirteenth season club national football league nfl', 'id': 'doc11'}, {'contents': '1924 argentine primera divisi n 33 season top flight football argentina afa season began april 13 ended january 4 1925 aamf began april 6 ended february 15 1925', 'id': 'doc12'}, {'contents': '1978 rthk top 10 gold songs awards chinese 1978 held 1978 1977 music season', 'id': 'doc13'}, {'contents': 'copa del general simo 1958 56th staging spanish cup competition began may 18 1958 concluded june 29 1958 final', 'id': 'doc14'}, {'contents': '1891 scottish cup final played 7 february 1891 second hampden park known cathkin park glasgow final 18th season scottish cup hearts dumbarton contested match hearts match 1 0 thanks 15th minute goal willie mason', 'id': 'doc15'}, {'contents': '1934 rose bowl played january 1 1934 american football bowl game 20th rose bowl game columbia lions defeated stanford indians cardinal 7 0 cliff montgomery columbia quarterback named rose bowl player game award created 1953 selections made retroactively 35 000 lowest attendance rose bowl game since rose bowl stadium built 1922 one rainy new year day celebrations pasadena california rain three days turned rose bowl stadium small lake', 'id': 'doc16'}, {'contents': '1997 wcha men ice hockey tournament 38th conference playoff league history 45th season wcha champion crowned tournament played march 7 march 15 1997 first round games played home team campus sites final five matches held civic center st paul minnesota winning tournament north dakota awarded broadmoor trophy received wcha automatic bid 1997 ncaa division men ice hockey tournament', 'id': 'doc17'}, {'contents': 'steppin stone rock song tommy boyce bobby hart first recorded paul revere raiders appeared album midnight ride released may 1966 song simple musically repeating verse chord progression e major g major major c major repeating bridge cut time e major g major major g major', 'id': 'doc18'}, {'contents': '1970 peach bowl college football bowl game arizona state sun devils north carolina tar heels', 'id': 'doc19'}, {'contents': '1903 04 kentucky wildcats men basketball team competed behalf university kentucky 1903 1904 season season kentucky would continue struggle leadership senior claire saint john wildcats would win one game cincinnati bearcats men basketball lose four games kentucky university georgetown college', 'id': 'doc20'}, {'contents': '122nd new york volunteer infantry known onondagas infantry regiment union army american civil war', 'id': 'doc21'}, {'contents': '1953 big seven conference football team consists american football players chosen various organizations big seven conference teams 1953 college football season selectors 1953 season included associated press ap united press players selected first team honorees ap displayed bold', 'id': 'doc22'}, {'contents': 'following lists events happened 1998 libya', 'id': 'doc23'}, {'contents': '1951 baylor bears football team represented baylor university 1951 ncaa college football season bears finished 8 2 1 record ranked 9 final ap poll four players larry isbell quarterback stanley williams end bill athey guard ken casner tackle awarded american status lost georgia tech yellow jackets football team orange bowl january 1 1952', 'id': 'doc24'}, {'contents': '13th parallel north circle latitude 13 degrees north earth equatorial plane crosses africa asia indian ocean pacific ocean central america caribbean atlantic ocean latitude sun visible 12 hours 53 minutes summer solstice 11 hours 22 minutes winter solstice', 'id': 'doc25'}, {'contents': '1992 phoenix cardinals season 73rd season team national football league nfl team matched previous output 4 12 cardinals failed qualify playoffs tenth straight season two cardinals victories came expense playoff bound teams phoenix defeated defending super bowl champion redskins week five week nine cards toppled 49ers finished regular season nfl best record 14 2', 'id': 'doc26'}, {'contents': '1969 70 ddr oberliga 21st season ddr oberliga first tier league football east germany league contested fourteen teams fc carl zeiss jena championship club last three east german championships otto skrowny bsg chemie leipzig league top scorer 12 goals lowest total top scorer history league roland ducke fc carl zeiss jena seasons east german footballer year award 452 goals scored season marked lowest total history ddr oberliga 2 48 goal average per game strength 1969 70 title jena qualified 1970 71 european cup club knocked red star belgrade quarter finals second placed club fc vorw rts berlin qualified 1970 71 european cup winners cup seasons fdgb pokal winner knocked psv eindhoven quarter finals third placed dynamo dresden qualified 1970 71 inter cities fairs cup knocked second round leeds united 1969 70 season marked half way point ddr oberliga 21 seasons played another 21 come champions first 21 seasons dynamo dresden championship second 21 dominated dresden 1 fc magdeburg berliner fc dynamo', 'id': 'doc27'}, {'contents': 'lisa raymond rennae stubbs defending champions lost first round katrina adams debbie graham alexandra fusai nathalie tauziat final 6 3 6 2 lindsay davenport monica seles', 'id': 'doc28'}, {'contents': '11th congress communist party soviet union held 27 march 2 april 1922 moscow congress elected 11th central committee 11th congress leon trotsky attacked sergey ivanovich gusev mikhail frunze red army policies specifically matters discipline political doctrine relations peasantry trotsky lost debate resulted discrediting civilian critics red army result civilians increasingly locked military related resolutions following 11th congress far reaching event appointment joseph stalin party first general secretary bukharin rykov promoted politburo allies stalin left wing party wanted nep ended', 'id': 'doc29'}, {'contents': 'following list notable machinima related events year 1996 include release id software first person shooter computer game quake game used create first machinima works later year', 'id': 'doc30'}, {'contents': '1994 nhl entry draft held hartford civic center xl center june 28 29 1994', 'id': 'doc31'}, {'contents': 'events year 1859 argentina', 'id': 'doc32'}, {'contents': '1998 99 hong kong first division league season 87th since establishment first match played 30 august 1998 instant dict drew south china 2 2 however suspended player played instant dict squad team penalised losing 0 3', 'id': 'doc33'}, {'contents': '1992 soviet cup final football match took place luzhniki stadium moscow 10 may 1992 country soviet union well government public organizations football federation ussr abandoned therefore game administered russian football union match 51st soviet cup final contested fc spartak moscow pfc cska moscow soviet cup winner spartak qualified cup winners cup first round russian federation spartak played 15th cup final winning 10 occasions including one cska came final defending champions eighth cup final third time defeated stage', 'id': 'doc34'}, {'contents': 'events year 1739 scotland', 'id': 'doc35'}, {'contents': 'knockout stage 1998 99 uefa champions league began 3 march 1999 ended final camp nou barcelona 26 may 1999 eight teams six groups group stage competed knockout stage quarter finals group winner randomly drawn runner another group four quarter final winners drawn together semi finals winners contested final quarter final semi final played two legs team playing one leg home team scored goals two legs qualified following round event two teams scored number goals two legs team scored goals away home qualified next round teams scored number away goals matches would go extra time penalties teams could separated extra time', 'id': 'doc36'}, {'contents': '1993 94 19th season division 1 operated second tier ice hockey sweden top flight elitserien shl', 'id': 'doc37'}, {'contents': '1998 99 faw premier cup second season tournament since founding 1997', 'id': 'doc38'}, {'contents': '1999 00 luxembourg championship season fourth season luxembourg hockey league three teams participated league regular season top team regular season lokomotiv luxembourg qualified final play tornado luxembourg', 'id': 'doc39'}, {'contents': '1995 96 northern premier league season 28th history northern premier league football competition england teams divided two divisions premier first known unibond league sponsorship reasons', 'id': 'doc40'}, {'contents': '1948 coupe de france final football match held stade olympique yves du manoir colombes may 10 1948 saw lille osc defeat rc lens 3 2 thanks goals roger vandooren jean baratte 2', 'id': 'doc41'}, {'contents': '1985 amstel gold race 20th edition annual road bicycle race amstel gold race held sunday april 27 1985 dutch province limburg race stretched 242 kilometres start heerlen finish meerssen total 146 competitors 25 cyclists finished race', 'id': 'doc42'}, {'contents': '1994 calgary stampeders finished 1st place west division 15 3 record appeared west final lost eventual grey cup champions bc lions', 'id': 'doc43'}, {'contents': 'mersin dmanyurdu also mersin dman yurdu mersin sports club located mersin east mediterranean coast turkey 1964 1965 1964 65 season 2nd season mersin dmanyurdu football team second league second level division turkey team finished 1964 65 second league third place team also participated 1964 65 turkish cup rkiye kupas eliminated third round club name ukurova dmanyurdu due sponsorship reasons president club mehmet karamehmet head coach lhan ta ucu season started spor toto cup games august 1964 ended last round game 3 april 1965 appeared player h seyin lgin top goalscorer alp meralp', 'id': 'doc44'}, {'contents': 'men triple jump event 1988 european athletics indoor championships held 6 march', 'id': 'doc45'}, {'contents': 'events year 1907 brazil', 'id': 'doc46'}, {'contents': '1971 myers brothers 250 nascar winston cup series event took place august 6 1971 bowman gray stadium american community winston salem north carolina', 'id': 'doc47'}, {'contents': 'late night monday friday schedules three networks calendar season beginning september 1988 times eastern pacific talk variety shows highlighted yellow network news programs gold local news programs highlighted white background', 'id': 'doc48'}, {'contents': '1969 texas longhorns football team represented university texas austin 1969 college football season longhorns games finish 11 0 win second consensus national championship school history first title six seasons earlier 1963 1969 team last white team named consensus national champions onset racial integration julius whittier first african american player texas football history enrolled ut freshman eligible play due ncaa rules barring freshmen playing varsity football basketball', 'id': 'doc49'}, {'contents': 'events year 1717 france', 'id': 'doc50'}, {'contents': '140th infantry regiment infantry regiment united states army missouri army national guard one us army regiments trace heritage historic regiments confederate states army 6th missouri infantry continued serve spanish american war world war world war ii deactivation 1963', 'id': 'doc51'}, {'contents': '1933 chicago cubs season 62nd season chicago cubs franchise 58th national league 18th wrigley field cubs finished third national league record 86 68', 'id': 'doc52'}, {'contents': '19383 rolling stones 1998 bz32 main belt asteroid discovered january 29 1998 oca dlr asteroid survey caussols named honor english musical group rolling stones asteroid name unusual expressed two words instead rollingstones format used minor planets named individuals groups although asteroid named pink floyd also expressed two words', 'id': 'doc53'}, {'contents': 'list notable events country music took place year 1935', 'id': 'doc54'}, {'contents': '100th air refueling wing 100 arw united states air force unit assigned third air force united states air forces europe air forces africa stationed raf mildenhall england also host wing raf mildenhall 100 arw permanent u air refueling wing european theater world war ii predecessor unit 100th bombardment group heavy eighth air force b 17 flying fortress unit england stationed raf thorpe abbotts flying 300 combat missions group earned two distinguished unit citations regensburg 17 august 1943 berlin 4 6 8 march 1944 group suffered tremendous losses combat 177 aircraft mia flying last mission 20 april 1945 one wing honors modern usaf operational wing allowed display assigned aircraft tail code square world war ii predecessor', 'id': 'doc55'}, {'contents': 'patty fendick ann henricksson defending doubles tennis champions 1989 taipei women championship henricksson competed year beth herr lost first round cecilia dahlman nana miyagi maria lindstr heather ludloff final 4 6 7 5 6 3 dahlman miyagi', 'id': 'doc56'}, {'contents': 'lazio finished 9th serie season', 'id': 'doc57'}, {'contents': '1890 yale bulldogs football team represented yale university 1890 college football season bulldogs finished 13 1 record third year head coach walter camp became known father american football 1890 team recorded 12 shutouts outscored opponents combined score 486 18 loss rival harvard 12 6 score three yale players halfback thomas mcclung guard pudge heffelfinger tackle william rhodes consensus picks 1890 college football america team three also inducted college football hall fame', 'id': 'doc58'}, {'contents': '1972 73 chicago black hawks season hawks 47th season nhl club coming third consecutive first place finish 1971 72 finished top west division 46 17 15 record tying club record 107 points hawks swept pittsburgh penguins nhl quarter finals swept new york rangers semi finals season black hawks lost bobby hull winnipeg jets newly created world hockey association signed first 1 million contract hockey history nhl also expanded new york islanders would join east division atlanta flames would placed west chicago dealing lost hull got quick start season winning first four games sliding slump saw record fall 7 7 2 club would break slump win 14 next 18 games take hold top spot west division hawks cruised fourth straight first place finish record 42 27 9 earning 93 points lowest point total since missing playoffs 1968 69 season offensively black hawks led jim pappin career season scoring 41 goals 92 points pit martin also stepped earning 61 assists 90 points dennis hull scored 39 goals 90 points stan mikita solid year earning 83 points despite missing 21 games due injuries bill white lead defense registering 47 points pat stapleton scored 10 goals 31 points rookie phil russell team high 156 penalty minutes 31 rating tied mikita team lead goal tony esposito led club 32 victories 2 51 gaa along four shutouts appearing 56 games backup goaltender gary smith 10 games 3 54 gaa hawks opened playoffs st louis blues record 32 34 12 earning 76 points placing fourth west division series opened two games chicago stadium black hawks easily defeated blues series opener winning 7 1 shutting st louis 1 0 second game take early series lead series shifted st louis arena next two games however chicago took 3 0 series lead winning 5 2 third game blues avoided sweep winning 5 3 fourth game chicago returned home fifth game easily took care st louis thumping blues 6 1 win series chicago next opponent new york rangers finished season 47 23 8 record earning 102 points third place finish east division rangers defeated defending stanley cup champions boston bruins first playoff series since black hawks division given home ice advantage series series opened two games chicago stadium rangers struck first winning series opener 4 1 score black hawks rebounded second game holding new york 5 4 victory even series series moved madison square garden next two games would hawks took control series defeating rangers 2 1 3 1 take 3 1 series lead back chicago fifth game black hawks stayed hot easily beat rangers 4 1 win series advance stanley cup finals second time three years hawks opponent 1973 stanley cup finals montreal canadiens best team league regular season 52 10 16 record earning 120 points canadiens defeated buffalo sabres philadelphia flyers earn spot finals series opened montreal forum powerful canadiens easily first game 8 3 score followed 4 1 win second game take 2 0 series lead finals shifted chicago stadium next two games hawks cut canadiens series lead 7 4 victory third game montreal rebounded fourth game though shutting chicago 4 0 take 3 1 series lead fifth game returned montreal however black hawks stayed alive wild 8 7 victory cutting canadiens lead 3 2 series sixth game back chicago montreal would rebound defeating hawks 6 4 win stanley cup', 'id': 'doc59'}, {'contents': '1998 croatia open umag tennis tournament played outdoor clay courts umag croatia part international series 1998 atp tour tournament held july 27 august 2 1998', 'id': 'doc60'}, {'contents': '1944 illinois fighting illini football team american football team represented university illinois 1944 big ten conference football season third year head coach ray eliot illini compiled 5 3 1 record ranked 15 final ap poll finished sixth place big ten conference team lost three games teams ranked top 10 ap poll 9 ranked notre dame 7 13 8 ranked michigan 0 14 2 ranked ohio state 12 26 halfback buddy young selected team valuable player', 'id': 'doc61'}, {'contents': 'mark keil jeff tarango defending champions tarango competed year david ekerot ekerot tarango final 7 6 7 6 david adams menno oosting', 'id': 'doc62'}, {'contents': '1789 dobrovolsky provisional designation florian asteroid inner regions asteroid belt approximately 8 kilometers diameter discovered 19 august 1966 russian astronomer lyudmila chernykh crimean astrophysical observatory nauchnyj crimean peninsula asteroid member flora family large group stony type asteroids inner main belt orbits sun distance 1 8 2 6 au every 3 years 3 months 1 203 days orbit eccentricity 0 19 inclination 2 respect ecliptic first identified johannesburg body first used observation taken nice observatory 1943 dobrovolsky identified extending observation arc 23 years prior official discovery observation far best rated rotational light curve dobrovolsky obtained photometric observations american astronomer brian skiff march 2011 gave rotation period 4 812 hours brightness variation 0 13 magnitude light curves obtained claes ingvar lagerkvist 1973 palomar transient factory 2014 giving period 5 8 4 800 4 8111 hours respectively international study february 2016 published modeled period 4 811096 hours according survey carried nasa wide field infrared survey explorer subsequent neowise mission dobrovolsky measures 7 92 kilometers diameter surface albedo 0 185 best result collaborative asteroid lightcurve link assumes albedo 0 24 derived 8 flora largest member namesake family calculates diameter 9 85 kilometers based absolute magnitude 12 2 minor planet named honor ukrainian soviet cosmonaut georgiy timofeyevich dobrovolsky commander soyuz 11 spacecraft died 30 june 1971 vehicle return earth completing flight program first manned orbital station salyut subsequently numbered minor planets 1790 volkov 1791 patsayev named honour dead crew members names three cosmonauts also engraved plaque next sculpture fallen astronaut moon placed apollo 15 mission containing names eight american astronauts six soviet cosmonauts died service naming citation published november 1977', 'id': 'doc63'}, {'contents': 'statistics maltese premier league season 1928 1929', 'id': 'doc64'}, {'contents': '1909 st louis cardinals season team 28th season st louis missouri 18th season national league cardinals went 54 98 season finished 7th national league', 'id': 'doc65'}, {'contents': '1991 arab athletics championships seventh edition international athletics competition arab countries took place latakia syria 1 4 october total 39 athletics events contested 23 men 16 women marathon race held short course latakia ultimately dropped following edition men 50 kilometres race walk introduced 1987 removed programme women 100 metres hurdles held due lack entries women 10 000 metres marathon held 1989 return occasion', 'id': 'doc66'}, {'contents': '153298 paulmyers asteroid discovered march 29 2001 david healy junk bond observatory named biologist prominent blogger pz myers', 'id': 'doc67'}, {'contents': 'nationality words link articles information nation poetry literature instance irish france', 'id': 'doc68'}, {'contents': '1998 waldbaum hamlet cup men tennis tournament played hard courts long island united part international series 1995 atp tour tenth edition tournament held 21 27 august 1998', 'id': 'doc69'}, {'contents': '1961 u national championships known us open tennis tournament took place outdoor grass courts west side tennis club forest hills new york united states tournament ran 1 september 10 september 81st staging u national championships fourth grand slam tennis event 1961', 'id': 'doc70'}, {'contents': '1987 football league cup final football match played 5 april 1987 arsenal liverpool match played front 96 000 spectators wembley stadium arsenal 2 1 ian rush opened scoring liverpool charlie nicholas equalised turning cross crowded penalty area nicholas credited scoring winning goal second half perry groves cross target shot deflected ronnie whelan diverted past liverpool goalkeeper bruce grobbelaar outstretched hand arsenal also finished fourth first division unable compete 1987 88 uefa cup uefa voted ban english clubs european competitions continue third season ian rush consolation goal first goal scored losing side competition ended liverpool 144 match unbeaten streak matches scored', 'id': 'doc71'}, {'contents': '1949 chicago bears season 30th regular season completed national football league club posted competitive 9 3 record head coach george halas team finished second place nfl western division third time missing chance add league titles trophy case', 'id': 'doc72'}, {'contents': '1975 giro italia 59th running giro italia one cycling grand tours races giro started milan 17 may set split stages concluded summit finish passo dello stelvio 7 june another split stage consisting individual time trial mass start stage total 90 riders nine teams entered 22 stage race italian fausto bertoglio jolly ceramica team second third places taken spaniard francisco gald italian felice gimondi respectively amongst classifications race awarded brooklyn roger de vlaeminck points classification andr oliva francisco gald kas mountains classification brooklyn finished winners team points classification', 'id': 'doc73'}, {'contents': '1990 big south conference men basketball tournament took place march 1 3 1990 winthrop coliseum rock hill south carolina first time school history coastal carolina chanticleers tournament led head coach russ bergman', 'id': 'doc74'}, {'contents': '1925 european figure skating championships european figure skating championships 1924 1925 season elite senior level figure skaters european isu member nations competed title european champion skaters competed discipline men singles 1925 european championships held triberg germany', 'id': 'doc75'}, {'contents': '15th air defense division serbo croatian 15 divizija protivvazdu ne odbrane 15 air defense division established 1964 5th air defense zone serbo croatian 5 zona protivvazdu ne odbrane 5', 'id': 'doc76'}, {'contents': 'men javelin throw 1950 european athletics championships held bruxelles belgium stade du heysel 26 27 august 1950', 'id': 'doc77'}, {'contents': 'see also 1910 australia events 1911 1912 australia timeline australian history', 'id': 'doc78'}, {'contents': '1987 jade solid gold best ten music awards presentation chinese 1987 held january 1988 part jade solid gold best ten music awards presentation series held hong kong', 'id': 'doc79'}, {'contents': '1998 99 nba season warriors 53rd season national basketball association 37th san francisco bay area 1998 nba draft warriors selected vince carter university north carolina fifth pick soon traded toronto raptors college teammate antawn jamison also acquired john starks chris mills terry cummings new york knicks offseason losing first five games warriors started show signs improvement lockout shortened season despite playing 32 games fewer two games previous year finishing sixth pacific division 21 29 record following season bimbo coles traded atlanta hawks muggsy bogues signed free agent toronto raptors tony delk signed sacramento kings', 'id': 'doc80'}, {'contents': '1946 cincinnati reds season season american baseball team finished sixth national league record 67 87 30 games behind st louis cardinals', 'id': 'doc81'}, {'contents': '1988 argentina rugby union tour france series eight matches played argentina national rugby union team october november 1988', 'id': 'doc82'}, {'contents': '1897 navy midshipmen football team represented united states naval academy 1897 college football season first season head coach bill armstrong midshipmen compiled 8 1 record shut seven opponents outscored opponents combined score 111 34 army navy game canceled due presidential cabinet order', 'id': 'doc83'}, {'contents': 'john mcenroe defending champion lost quarterfinals kevin curren curren also defeated jimmy connors semifinal became first player ever defeat connors mcenroe grand slam tournament boris becker final 6 3 6 7 7 6 6 4 curren becoming first unseeded player first german win wimbledon singles title well youngest ever male grand slam singles champion 17 years 227 days record would eventually broken michael chang 1989 french open', 'id': 'doc84'}, {'contents': '1907 romanian peasants revolt took place 21 february 5 april 1907 started northern moldavia three weeks localized area quickly spread reaching wallachia including far oltenia main cause discontent peasants inequity land ownership hands large landowners following fall conservative party government march 12 new liberal government crushed revolt violently help romanian army killing thousands peasants process', 'id': 'doc85'}, {'contents': 'women 10 000 metres event featured 1993 world championships stuttgart germany total number 42 participating athletes two qualifying heats final held 21 august 1993', 'id': 'doc86'}, {'contents': 'military terms 150th division 150th infantry division may refer 150th division people republic china 150th rifle division soviet union', 'id': 'doc87'}, {'contents': '1786 sports describes year events world sport', 'id': 'doc88'}, {'contents': '1848 marlborough earthquake magnitude 7 4 ml earthquake occurred 1 40 16 october 1848 whose epicenter marlborough region south island new zealand wellington shaking lasted two minutes caused widespread damage especially brick stone structures buildings damaged earthquake rebuilt wood contributed relatively low level damage loss life powerful wairarapa earthquake hit wellington seven years later', 'id': 'doc89'}, {'contents': '1963 european cup final football match milan benfica held wembley stadium london 22 may 1963 milan match 2 1 winning european cup first time', 'id': 'doc90'}, {'contents': '1985 boston red sox season 85th season franchise major league baseball history red sox finished fifth american league east record 81 wins 81 losses 18 1 2 games behind toronto blue jays', 'id': 'doc91'}, {'contents': 'steffi graf successfully defended tile defeating monica seles 7 5 6 4 final win women singles title 1996 us open rematch 1995 us open final graf defeated seles three sets also marked final time seles graf would play us open 1996 u open proved last gabriela sabatini retired later year sabatini twice finalist u open 1988 us open final sabatini lost graf three sets two years later 1990 us open sabatini defeated graf two sets win grand slam title', 'id': 'doc92'}, {'contents': 'irish league season 1930 31 comprised 14 teams glentoran winning championship', 'id': 'doc93'}, {'contents': '1972 belgian grand prix formula one motor race held nivelles 4 june 1972 fifth race 1972 formula one season 85 lap race lotus driver emerson fittipaldi started pole position fran ois cevert finished second tyrrell team mclaren driver denny hulme came third', 'id': 'doc94'}, {'contents': 'year 1140 mcxl leap year starting monday link display full calendar julian calendar', 'id': 'doc95'}, {'contents': '1967 68 indiana state sycamores men basketball team represented indiana state university 1968 ncaa men division ii basketball tournament sycamores 19 games regular season led jerry newsom led sycamores national title game versus george tinsley led kentucky wesleyan team ended season national runner record 23 8', 'id': 'doc96'}, {'contents': 'women triple jump event 1993 iaaf world indoor championships held 13 14 march', 'id': 'doc97'}, {'contents': 'enzymology 15 hydroxyicosatetraenoate dehydrogenase enzyme catalyzes chemical reaction 15s 15 hydroxy 5 8 11 cis 13 trans icosatetraenoate nad p 15 oxo 5 8 11 cis 13 trans icosatetraenoate nad p h h 3 substrates enzyme 15 hydroxyicosatetraenoic acid e 15 15 hydroxy 5 8 11 cis 13 trans icosatetraenoate nad nadp whereas 4 products 15 oxo 5 8 11 cis 13 trans icosatetraenoate nadh nadph h enzyme belongs family oxidoreductases specifically acting ch oh group donor nad nadp acceptor systematic name enzyme class 15s 15 hydroxy 5 8 11 cis 13 trans icosatetraenoate nad p 15 oxidoreductase enzyme also called 15 hydroxyeicosatetraenoate dehydrogenase enzyme participates arachidonic acid metabolism', 'id': 'doc98'}, {'contents': 'meridian 110 east greenwich line longitude extends north pole across arctic ocean asia indian ocean southern ocean antarctica south pole 110th meridian east forms great circle 70th meridian west', 'id': 'doc99'}]\n"
     ]
    }
   ],
   "source": [
    "with open('wiki_df.json', 'r') as file:\n",
    "    data = json.load(file)\n",
    "\n",
    "\n",
    "print(data[:100])"
   ]
  },
  {
   "cell_type": "code",
   "execution_count": null,
   "id": "db1fbaad",
   "metadata": {},
   "outputs": [],
   "source": []
  }
 ],
 "metadata": {
  "kernelspec": {
   "display_name": "Python faiss_1.7.4",
   "language": "python",
   "name": "faiss_1.7.4"
  },
  "language_info": {
   "codemirror_mode": {
    "name": "ipython",
    "version": 3
   },
   "file_extension": ".py",
   "mimetype": "text/x-python",
   "name": "python",
   "nbconvert_exporter": "python",
   "pygments_lexer": "ipython3",
   "version": "3.10.13"
  }
 },
 "nbformat": 4,
 "nbformat_minor": 5
}
