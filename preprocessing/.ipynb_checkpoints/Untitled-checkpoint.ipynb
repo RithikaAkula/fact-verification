{
 "cells": [
  {
   "cell_type": "code",
   "execution_count": 1,
   "id": "2fcda929",
   "metadata": {},
   "outputs": [],
   "source": [
    "import pandas as pd\n",
    "import json\n"
   ]
  },
  {
   "cell_type": "code",
   "execution_count": 79,
   "id": "724fb2c3",
   "metadata": {},
   "outputs": [],
   "source": [
    "wiki_df = pd.read_parquet('processed_data/0.parquet')\n"
   ]
  },
  {
   "cell_type": "code",
   "execution_count": 80,
   "id": "7d0c8415",
   "metadata": {},
   "outputs": [
    {
     "data": {
      "text/html": [
       "<div>\n",
       "<style scoped>\n",
       "    .dataframe tbody tr th:only-of-type {\n",
       "        vertical-align: middle;\n",
       "    }\n",
       "\n",
       "    .dataframe tbody tr th {\n",
       "        vertical-align: top;\n",
       "    }\n",
       "\n",
       "    .dataframe thead th {\n",
       "        text-align: right;\n",
       "    }\n",
       "</style>\n",
       "<table border=\"1\" class=\"dataframe\">\n",
       "  <thead>\n",
       "    <tr style=\"text-align: right;\">\n",
       "      <th></th>\n",
       "      <th>title</th>\n",
       "      <th>lines</th>\n",
       "      <th>unique_id</th>\n",
       "    </tr>\n",
       "  </thead>\n",
       "  <tbody>\n",
       "    <tr>\n",
       "      <th>0</th>\n",
       "      <td>1928_in_association_football</td>\n",
       "      <td>The following are the football soccer events o...</td>\n",
       "      <td>0</td>\n",
       "    </tr>\n",
       "    <tr>\n",
       "      <th>1</th>\n",
       "      <td>1986_NBA_Finals</td>\n",
       "      <td>The 1986 NBA Finals was the championship round...</td>\n",
       "      <td>1</td>\n",
       "    </tr>\n",
       "    <tr>\n",
       "      <th>2</th>\n",
       "      <td>1986_NBA_Finals</td>\n",
       "      <td>It pitted the Eastern Conference champion Bost...</td>\n",
       "      <td>2</td>\n",
       "    </tr>\n",
       "    <tr>\n",
       "      <th>3</th>\n",
       "      <td>1986_NBA_Finals</td>\n",
       "      <td>The Celtics defeated the Rockets four games to...</td>\n",
       "      <td>3</td>\n",
       "    </tr>\n",
       "    <tr>\n",
       "      <th>4</th>\n",
       "      <td>1986_NBA_Finals</td>\n",
       "      <td>The championship would be the Celtics ' last u...</td>\n",
       "      <td>4</td>\n",
       "    </tr>\n",
       "  </tbody>\n",
       "</table>\n",
       "</div>"
      ],
      "text/plain": [
       "                          title  \\\n",
       "0  1928_in_association_football   \n",
       "1               1986_NBA_Finals   \n",
       "2               1986_NBA_Finals   \n",
       "3               1986_NBA_Finals   \n",
       "4               1986_NBA_Finals   \n",
       "\n",
       "                                               lines  unique_id  \n",
       "0  The following are the football soccer events o...          0  \n",
       "1  The 1986 NBA Finals was the championship round...          1  \n",
       "2  It pitted the Eastern Conference champion Bost...          2  \n",
       "3  The Celtics defeated the Rockets four games to...          3  \n",
       "4  The championship would be the Celtics ' last u...          4  "
      ]
     },
     "execution_count": 80,
     "metadata": {},
     "output_type": "execute_result"
    }
   ],
   "source": [
    "wiki_df.head()"
   ]
  },
  {
   "cell_type": "code",
   "execution_count": 81,
   "id": "4f503830",
   "metadata": {},
   "outputs": [
    {
     "data": {
      "text/plain": [
       "(1788098, 3)"
      ]
     },
     "execution_count": 81,
     "metadata": {},
     "output_type": "execute_result"
    }
   ],
   "source": [
    "wiki_df.shape"
   ]
  },
  {
   "cell_type": "code",
   "execution_count": 54,
   "id": "f319a49f",
   "metadata": {},
   "outputs": [],
   "source": [
    "wiki_df['unique_id'] = wiki_df['unique_id'].astype(str)\n"
   ]
  },
  {
   "cell_type": "code",
   "execution_count": 55,
   "id": "516de2df",
   "metadata": {},
   "outputs": [],
   "source": [
    "wiki_df = wiki_df.rename(columns={'lines': 'contents'})\n"
   ]
  },
  {
   "cell_type": "code",
   "execution_count": 56,
   "id": "81f6254b",
   "metadata": {},
   "outputs": [],
   "source": [
    "wiki_df = wiki_df.drop(columns=['title'])"
   ]
  },
  {
   "cell_type": "code",
   "execution_count": 57,
   "id": "e7b2549c",
   "metadata": {},
   "outputs": [],
   "source": [
    "wiki_df = wiki_df.rename(columns={'unique_id': 'id'})\n"
   ]
  },
  {
   "cell_type": "code",
   "execution_count": 58,
   "id": "a039c70b",
   "metadata": {},
   "outputs": [],
   "source": [
    "\n",
    "# Convert DataFrame to JSON file\n",
    "wiki_df.to_json('wiki_df.json', orient='records')"
   ]
  },
  {
   "cell_type": "code",
   "execution_count": 3,
   "id": "77868d1f",
   "metadata": {},
   "outputs": [
    {
     "name": "stdout",
     "output_type": "stream",
     "text": [
      "[{'doc_title': 'Mona_Lisa_-LRB-singer-RRB-', 'passage': 'Kimberly Leadbetter born November 20 , 1979 , she is known by her professional stage name as Mona Lisa , is an American pop and R&B singer-songwriter , actress , model and record producer .\\tR&B\\tContemporary R&B\\tactress\\tactress\\tpop\\tPop music\\n', 'doc_id': '3355981', 'passage_id': '16535733'}, {'doc_title': 'Mona_Lisa_-LRB-singer-RRB-', 'passage': \"She is best known for her debut single  Ca n't Be Wasting My Time  featuring the Hip-Hop group Lost Boyz , which was featured on the  Do n't Be a Menace to South Central While Drinking Your Juice in the Hood  soundtrack as well as her debut album 11-20-79 .\\tHip-Hop\\tHip-Hop\\tLost Boyz\\tLost Boyz\\t11-20-\", 'doc_id': '3355981', 'passage_id': '16535734'}, {'doc_title': 'Mona_Lisa_-LRB-singer-RRB-', 'passage': '11-20-79\\n', 'doc_id': '3355981', 'passage_id': '16535735'}, {'doc_title': 'Music_of_Mozambique', 'passage': 'The native folk music of Mozambique has been highly influenced by Portuguese forms .\\tfolk\\tFolk music\\tMozambique\\tMozambique (music)\\n', 'doc_id': '3355982', 'passage_id': '16535736'}, {'doc_title': 'Music_of_Mozambique', 'passage': 'The most popular style of modern dance music is marrabenta .\\tdance music\\tdance music\\tmarrabenta\\tmarrabenta\\n', 'doc_id': '3355982', 'passage_id': '16535737'}, {'doc_title': 'Music_of_Mozambique', 'passage': 'Mozambican music also influenced another Lusophone music in Brazil , like maxixe its name derived from Maxixe in Mozambique , and Cuban music like Mozambique .\\tMozambique\\tMozambique (music)\\tLusophone music\\tLusophone music\\tBrazil\\tBrazil\\tmaxixe\\tmaxixe (dance)\\tMaxixe\\tMaxixe, Mozambique\\tCuban music\\tMusic of Cuba\\n', 'doc_id': '3355982', 'passage_id': '16535738'}, {'doc_title': 'Music_of_Mozambique', 'passage': 'Culture was an integral part of the struggle for independence , which began in 1964 .\\n', 'doc_id': '3355982', 'passage_id': '16535739'}, {'doc_title': 'Music_of_Mozambique', 'passage': 'Leaders of the independence movement used cultural solidarity to gain support from the common people , while the Portuguese colonialists promoted their own culture .\\n', 'doc_id': '3355982', 'passage_id': '16535740'}, {'doc_title': 'Music_of_Mozambique', 'passage': 'By the time independence came in 1975 , Mozambican bands had abandoned their previous attempts at European-style music , and began forging new forms based out of local folk styles and the new African popular music coming from Zaire , Zimbabwe , Tanzania , Zambia and South Africa .\\tfolk\\tFolk music\\tZaire\\tZaire\\tZimbabwe\\tZimbabwe\\tTanzania\\tTanzania\\tZambia\\tZambia\\tSouth Africa\\tSouth Africa\\n', 'doc_id': '3355982', 'passage_id': '16535741'}, {'doc_title': 'Music_of_Mozambique', 'passage': 'In 1978 , the Ministry of Education and Culture organized a National Dance Festival that involved more than half a million people , and led to the creation of numerous organizations and festivals promoting Mozambican music .\\tMinistry of Education and Culture\\tMinistry of Education and Culture (Mozambique)\\tNational Dance Festival\\tNational Dance Festival\\n', 'doc_id': '3355982', 'passage_id': '16535742'}, {'doc_title': 'Mount_Terror_-LRB-Washington-RRB-', 'passage': 'Mount Terror is a mountain of the Cascade Range , located in the northwestern corner of Washington state in Whatcom County .\\tWhatcom County\\tWhatcom County, Washington\\tmountain\\tmountain\\tCascade Range\\tCascade Range\\tWashington state\\tWashington (state)\\n', 'doc_id': '3355983', 'passage_id': '16535743'}, {'doc_title': 'Mount_Terror_-LRB-Washington-RRB-', 'passage': 'The peak is in North Cascades National Park , about 15.7 mi south of the Canada -- US border .\\tNorth Cascades\\tNorth Cascades\\tNorth Cascades National Park\\tNorth Cascades National Park\\n', 'doc_id': '3355983', 'passage_id': '16535744'}, {'doc_title': 'Namna_Kalan', 'passage': 'Namna Kalan is a town and a nagar panchayat in Surguja district in the Indian state of Chhattisgarh .\\tChhattisgarh\\tChhattisgarh\\tSurguja\\tSurguja district\\tnagar panchayat\\tnagar panchayat\\tSurguja district\\tSurguja district\\tstate\\tStates and territories of India\\n', 'doc_id': '3355984', 'passage_id': '16535745'}, {'doc_title': 'Mouhammad_Alammar', 'passage': 'Dr Mouhammad Alammar is a leading nonviolence advocate , physician , Muslim preacher , writer and Syrian opposition figure .\\n', 'doc_id': '3355985', 'passage_id': '16535746'}, {'doc_title': 'Mohd_Nor_Umardi_Rosdi', 'passage': 'Mohd Nor Umardi Rosdi born 11 August 1986 is a Malaysian cyclist riding for Terengganu Cycling Team .\\tTerengganu Cycling Team\\tTerengganu Cycling Team\\n', 'doc_id': '3355986', 'passage_id': '16535747'}, {'doc_title': 'Monument_to_Savonarola_in_Piazza_Savonarola', 'passage': 'The Monument to Savonarola in Piazza Savonarola is an outdoor marble statue on a plinth in honor of the 15th-century Dominican monk Girolamo Savonarola ; it is located in a piazza of the same name a few blocks outside of the Viali di Circonvallazione , in Northeastern Florence , region of Tuscany , Italy .\\tGirolamo Savonarola\\tGirolamo Savonarola\\tViali di Circonvallazione\\tViali di Circonvallazione\\tFlorence\\tFlorence\\tTuscany\\tTuscany\\n', 'doc_id': '3355987', 'passage_id': '16535748'}, {'doc_title': 'Monument_to_Savonarola_in_Piazza_Savonarola', 'passage': 'This monument has a colorful history of migrations .\\n', 'doc_id': '3355987', 'passage_id': '16535749'}, {'doc_title': 'Monument_to_Savonarola_in_Piazza_Savonarola', 'passage': 'The statue was completed circa 1875 by Enrico Pazzi , a native of Ravenna , at a time , when anti-papal feelings ran high in Italy .\\tEnrico Pazzi\\tEnrico Pazzi\\n', 'doc_id': '3355987', 'passage_id': '16535750'}, {'doc_title': 'Monument_to_Savonarola_in_Piazza_Savonarola', 'passage': 'However , Savonarola has always been a polarizing historic figure , maniacal in his faith , and the perpetrator of the original Bonfire of the Vanities .\\n', 'doc_id': '3355987', 'passage_id': '16535751'}, {'doc_title': 'Monument_to_Savonarola_in_Piazza_Savonarola', 'passage': 'His theology was not compatible with contemporary liberal thought .\\n', 'doc_id': '3355987', 'passage_id': '16535752'}, {'doc_title': 'Monument_to_Savonarola_in_Piazza_Savonarola', 'passage': 'The statue was conceived by Pazzi in 1861 , who habitually created public monuments before they were requisitioned .\\n', 'doc_id': '3355987', 'passage_id': '16535753'}, {'doc_title': 'Monument_to_Savonarola_in_Piazza_Savonarola', 'passage': \"A committee was formed in 1869 to commission a monument to Savonarola , which was to be placed in the convent of San Marco ; however , they did not choose Pazzi 's model , but instead chose one by Giovanni Duprè , a former mentor of Pazzi .\\tSan Marco\\tSan Marco, Florence\\tGiovanni Duprè\\tGiovanni Duprè\\n\", 'doc_id': '3355987', 'passage_id': '16535754'}, {'doc_title': 'Monument_to_Savonarola_in_Piazza_Savonarola', 'passage': 'This was to lead to fierce conflict between the two sculptors .\\n', 'doc_id': '3355987', 'passage_id': '16535755'}, {'doc_title': 'Monument_to_Savonarola_in_Piazza_Savonarola', 'passage': \"In 1870 , another committee , chaired by Prince Ferdinando Strozzi , selected to commission Pazzi 's more grandiose and more anti-papal statue , and obtained the Commune 's permission to site the sculpture in the first cloister of the Florentine convent .\\tFerdinando Strozzi\\tFerdinando Strozzi\\n\", 'doc_id': '3355987', 'passage_id': '16535756'}, {'doc_title': 'Monument_to_Savonarola_in_Piazza_Savonarola', 'passage': 'However , the drop in revenue caused by the transfer of the capital of Italy from Florence to Rome , cancelled this project .\\tFlorence\\tFlorence\\n', 'doc_id': '3355987', 'passage_id': '16535757'}, {'doc_title': 'Monument_to_Savonarola_in_Piazza_Savonarola', 'passage': 'By 1873 , Duprè completed his contribution : a simple plaque and relief bust placed in the cell of the friar in San Marco .\\tSan Marco\\tSan Marco, Florence\\n', 'doc_id': '3355987', 'passage_id': '16535758'}, {'doc_title': 'Monument_to_Savonarola_in_Piazza_Savonarola', 'passage': \"Pazzi 's work , completed only in 1875 , did not find enough subscribers , and was donated ultimately to the Town Hall .\\n\", 'doc_id': '3355987', 'passage_id': '16535759'}, {'doc_title': 'Monument_to_Savonarola_in_Piazza_Savonarola', 'passage': 'It remained in studio till 1882 , when it was installed , to much criticism , into the niche of the southern end of the Salone dei Cinquecento in the Palazzo Vecchio .\\tSalone dei Cinquecento\\tSalone dei Cinquecento\\tPalazzo Vecchio\\tPalazzo Vecchio\\n', 'doc_id': '3355987', 'passage_id': '16535760'}, {'doc_title': 'Monument_to_Savonarola_in_Piazza_Savonarola', 'passage': 'One justification for this placement was that Savonarola had commissioned the creation of this large hall in 1497 .\\n', 'doc_id': '3355987', 'passage_id': '16535761'}, {'doc_title': 'Monument_to_Savonarola_in_Piazza_Savonarola', 'passage': 'There was still rumors that it would be moved in the future to the precinct of San Marco .\\tSan Marco\\tSan Marco, Florence\\n', 'doc_id': '3355987', 'passage_id': '16535762'}, {'doc_title': 'Monument_to_Savonarola_in_Piazza_Savonarola', 'passage': 'The statue had displaced none other than a Michelangelo statue , placed here by Vasari .\\tMichelangelo\\tMichelangelo\\tVasari\\tGiorgio Vasari\\n', 'doc_id': '3355987', 'passage_id': '16535763'}, {'doc_title': 'Monument_to_Savonarola_in_Piazza_Savonarola', 'passage': \"Even in this niche , Savonarola 's provincial and other-worldly causes did not fit the Italian nationalism that was in demand after the recent world war .\\n\", 'doc_id': '3355987', 'passage_id': '16535764'}, {'doc_title': 'Monument_to_Savonarola_in_Piazza_Savonarola', 'passage': 'In addition , many Florentine critics were never content with the removal of the heroic Genius of Victory by Michelangelo .\\tMichelangelo\\tMichelangelo\\n', 'doc_id': '3355987', 'passage_id': '16535765'}, {'doc_title': 'Monument_to_Savonarola_in_Piazza_Savonarola', 'passage': 'Ultimately , even if unfinished , the subtle Michelangelo work was able to vanquish the polished sculpture of the somewhat unsufferable , faith-frenzied priest .\\tMichelangelo\\tMichelangelo\\n', 'doc_id': '3355987', 'passage_id': '16535766'}, {'doc_title': 'Monument_to_Savonarola_in_Piazza_Savonarola', 'passage': \"In 1921 , Savonarola 's statue was exiled to this graffiti-ridden suburban park .\\n\", 'doc_id': '3355987', 'passage_id': '16535767'}, {'doc_title': 'Monument_to_Savonarola_in_Piazza_Savonarola', 'passage': 'In some ways , the Ferrarese priest was never quite at home in Florence .\\tFlorence\\tFlorence\\n', 'doc_id': '3355987', 'passage_id': '16535768'}, {'doc_title': 'Monument_to_Savonarola_in_Piazza_Savonarola', 'passage': 'Savonarola stands on a plinth designed by Olinto Rimediotti .\\tOlinto Rimediotti\\tOlinto Rimediotti\\n', 'doc_id': '3355987', 'passage_id': '16535769'}, {'doc_title': 'Monument_to_Savonarola_in_Piazza_Savonarola', 'passage': 'Savonarola is depicted with his right hand while raising a Cross , recalling his declaration during a public sermon in 1495 , that Christ was the new King of Florence .\\tFlorence\\tFlorence\\n', 'doc_id': '3355987', 'passage_id': '16535770'}, {'doc_title': 'Monument_to_Savonarola_in_Piazza_Savonarola', 'passage': 'The left hand of his gown protects , or perhaps smothers , the Marzocco , a symbol of the Republic of Florence .\\tFlorence\\tFlorence\\tMarzocco\\tMarzocco\\tRepublic of Florence\\tRepublic of Florence\\n', 'doc_id': '3355987', 'passage_id': '16535771'}, {'doc_title': 'Monument_to_Savonarola_in_Piazza_Savonarola', 'passage': 'Restoration of the monument has been planned .\\n', 'doc_id': '3355987', 'passage_id': '16535772'}, {'doc_title': 'Monument_to_Savonarola_in_Piazza_Savonarola', 'passage': 'The statue lacks the commanding and hypnotic drama of the bronze Monument to Girolamo Savonarola in Ferrara by Stefano Galletti .\\tGirolamo Savonarola\\tGirolamo Savonarola\\tMonument to Girolamo Savonarola\\tMonument to Girolamo Savonarola, Ferrara\\tFerrara\\tFerrara\\tStefano Galletti\\tStefano Galletti\\n', 'doc_id': '3355987', 'passage_id': '16535773'}, {'doc_title': 'Montville_Memorial_Precinct', 'passage': 'Montville Memorial Precinct is a heritage-listed memorial precinct at Razorback Road and Main Street Montville-Mapleton Road , Montville , Sunshine Coast Region , Queensland , Australia .\\tMontville\\tMontville, Queensland\\tSunshine Coast Region\\tSunshine Coast Region\\tQueensland\\tQueensland\\n', 'doc_id': '3355988', 'passage_id': '16535774'}, {'doc_title': 'Montville_Memorial_Precinct', 'passage': 'It was added to the Queensland Heritage Register on 28 August 2008 .\\tQueensland\\tQueensland\\tQueensland Heritage Register\\tQueensland Heritage Register\\n', 'doc_id': '3355988', 'passage_id': '16535775'}, {'doc_title': 'Moves_-LRB-ballet-RRB-', 'passage': \"Moves A Ballet in Silence is a ballet without music created by Jerome Robbins for his company Ballets : USA for the Spoleto Italy Festival of Two Worlds , where it received its premiere 3 July 1959 ; the New York City Ballet première took place on Wednesday , 2 May 1984 , by which time Robbins was City Ballet 's ballet master , at the New York State Theater , Lincoln Center .\\tJerome Robbins\\tJerome Robbins\\tSpoleto\\tSpoleto\\tItaly\\tItaly\\tFestival of Two Worlds\\tFestival of Two Worlds\\tNew York City Ballet\\tNew York City Ballet\\t\", 'doc_id': '3355989', 'passage_id': '16535776'}, {'doc_title': 'Moves_-LRB-ballet-RRB-', 'passage': 'List of 1984 ballet premieres\\tNew York State Theater\\tDavid H. Koch Theater\\tLincoln Center\\tLincoln Center for the Performing Arts\\n', 'doc_id': '3355989', 'passage_id': '16535777'}, {'doc_title': 'Na_Smenu!', 'passage': 'Na Smenu !\\n', 'doc_id': '3355990', 'passage_id': '16535778'}, {'doc_title': 'Na_Smenu!', 'passage': 'was a Soviet and Russian student newspaper published from 1921 to 2009 with a break in the 1940s .\\tstudent newspaper\\tstudent newspaper\\n', 'doc_id': '3355990', 'passage_id': '16535779'}, {'doc_title': 'Na_Smenu!', 'passage': 'The publication was based in Yekaterinburg .\\tYekaterinburg\\tYekaterinburg\\n', 'doc_id': '3355990', 'passage_id': '16535780'}, {'doc_title': 'Na_Smenu!', 'passage': 'In the 1920s Na Smenu !\\n', 'doc_id': '3355990', 'passage_id': '16535781'}, {'doc_title': 'Na_Smenu!', 'passage': 'was associated with the local group of proletarian writers of the same name , who the newspaper editors consulted with .\\tproletarian\\tproletarian\\n', 'doc_id': '3355990', 'passage_id': '16535782'}, {'doc_title': 'Na_Smenu!', 'passage': 'The publication led the extremely aggressive propaganda of atheism and communism .\\n', 'doc_id': '3355990', 'passage_id': '16535783'}, {'doc_title': 'Na_Smenu!', 'passage': 'In 1929-1930 the writers group has been  purged from unwelcome elements  .\\n', 'doc_id': '3355990', 'passage_id': '16535784'}, {'doc_title': 'Na_Smenu!', 'passage': 'The newspaper welcomed industrialization and participated in the organization of socialist emulations .\\n', 'doc_id': '3355990', 'passage_id': '16535785'}, {'doc_title': 'Na_Smenu!', 'passage': 'After the Great Patriotic War 1941 -- 1945 became the exemplary Komsomol publication .\\tGreat Patriotic War\\tEastern Front (World War II)\\tKomsomol\\tKomsomol\\n', 'doc_id': '3355990', 'passage_id': '16535786'}, {'doc_title': 'Na_Smenu!', 'passage': 'Student of journalism had their internships there .\\n', 'doc_id': '3355990', 'passage_id': '16535787'}, {'doc_title': 'Na_Smenu!', 'passage': 'Na Smenu !\\n', 'doc_id': '3355990', 'passage_id': '16535788'}, {'doc_title': 'Na_Smenu!', 'passage': \"published Komsomol 's annual report on its achievements called Lenin 's Ladder , articles on blue-collared workers , environment , humor , sports .\\tKomsomol\\tKomsomol\\n\", 'doc_id': '3355990', 'passage_id': '16535789'}, {'doc_title': 'Na_Smenu!', 'passage': \"After the beginning of Perestroika it changed its focus to economical issues , readers ' letters , philosophical articles and even criticism of the local authorities .\\tPerestroika\\tPerestroika\\n\", 'doc_id': '3355990', 'passage_id': '16535790'}, {'doc_title': 'Na_Smenu!', 'passage': 'It was later published by the local Gazprom department .\\tGazprom\\tGazprom\\n', 'doc_id': '3355990', 'passage_id': '16535791'}, {'doc_title': 'Na_Smenu!', 'passage': 'It was shut down on August 28 , 2009 due to the lack of financing .\\n', 'doc_id': '3355990', 'passage_id': '16535792'}, {'doc_title': 'Mørkfoss', 'passage': 'Mørkfoss is a small village in Trøgstad municipality , Norway .\\tTrøgstad\\tTrøgstad\\tNorway\\tNorway\\n', 'doc_id': '3355991', 'passage_id': '16535793'}, {'doc_title': 'Mørkfoss', 'passage': 'It is located in the southern end of lake Øyeren , at the continuation of Glomma river .\\tØyeren\\tØyeren\\tGlomma\\tGlomma\\n', 'doc_id': '3355991', 'passage_id': '16535794'}, {'doc_title': 'Mørkfoss', 'passage': 'Mørkfoss has traces of a dam construction which was built in connection to the Solbergfoss power plant .\\tdam\\tdam\\tSolbergfoss\\tSolbergfoss\\n', 'doc_id': '3355991', 'passage_id': '16535795'}, {'doc_title': \"NCAA_Division_I_Men's_Lacrosse_Championship\", 'passage': \"The NCAA Division I Men 's Lacrosse Championship tournament determines the annual top men 's field lacrosse team in the NCAA Division I .\\tfield lacrosse\\tfield lacrosse\\tNCAA\\tNational Collegiate Athletic Association\\tDivision I\\tNCAA Division I\\n\", 'doc_id': '3355992', 'passage_id': '16535796'}, {'doc_title': \"NCAA_Division_I_Men's_Lacrosse_Championship\", 'passage': \"This tournament has determined the national champion since the inaugural 1971 NCAA Division I Men 's Lacrosse Championship .\\tNCAA\\tNational Collegiate Athletic Association\\tDivision I\\tNCAA Division I\\n\", 'doc_id': '3355992', 'passage_id': '16535797'}, {'doc_title': \"NCAA_Division_I_Men's_Lacrosse_Championship\", 'passage': 'Prior to this , from 1936 through 1970 , the United States Intercollegiate Lacrosse Association USILA awarded the Wingate Memorial Trophy to the NCAA Division I annual champion based on regular season records .\\tNCAA\\tNational Collegiate Athletic Association\\tDivision I\\tNCAA Division I\\tUnited States Intercollegiate Lacrosse Association\\tUnited States Intercollegiate Lacrosse Association\\tWingate Memorial Trophy\\tWingate Memorial Trophy\\n', 'doc_id': '3355992', 'passage_id': '16535798'}, {'doc_title': 'Mount_Maunganui_-LRB-mountain-RRB-', 'passage': 'Mount Maunganui , or Mauao , commonly known by locals as The Mount , is an extinct volcanic cone at the end of a peninsula and the town of Mount Maunganui , by the eastern entrance to the Tauranga Harbour in New Zealand .\\tNew Zealand\\tNew Zealand\\textinct\\textinct volcano\\tvolcanic cone\\tvolcanic cone\\tpeninsula\\tpeninsula\\ttown\\ttown\\tMount Maunganui\\tMount Maunganui\\tTauranga\\tTauranga\\n', 'doc_id': '3355993', 'passage_id': '16535799'}, {'doc_title': 'Mount_Maunganui_-LRB-mountain-RRB-', 'passage': 'It is considered very important and tapu sacred by the local Māori iwi , featuring extensively in local mythology .\\ttapu\\tTapu (Polynesian culture)\\tMāori\\tMāori people\\tiwi\\tiwi\\tmythology\\tMāori mythology\\n', 'doc_id': '3355993', 'passage_id': '16535800'}, {'doc_title': 'Mount_Maunganui_-LRB-mountain-RRB-', 'passage': 'It is also of significant historical value .\\n', 'doc_id': '3355993', 'passage_id': '16535801'}, {'doc_title': 'Mount_Maunganui_-LRB-mountain-RRB-', 'passage': 'The summit is 232 metres above sea level .\\n', 'doc_id': '3355993', 'passage_id': '16535802'}, {'doc_title': 'Mount_Maunganui_-LRB-mountain-RRB-', 'passage': 'In recent years there have been several fires on the mountain , in turn triggering a number of replanting efforts .\\n', 'doc_id': '3355993', 'passage_id': '16535803'}, {'doc_title': 'Mount_Maunganui_-LRB-mountain-RRB-', 'passage': 'Since Mount Maunganui has been open to the general public it has become a popular location for many activities including scenic walks , jogging and even hang gliding .\\tMount Maunganui\\tMount Maunganui\\n', 'doc_id': '3355993', 'passage_id': '16535804'}, {'doc_title': 'My_Horse_&_Me', 'passage': 'My Horse & Me is a show jumping video game published by Atari for the Nintendo Wii , Nintendo DS , and Windows .\\tAtari\\tAtari\\tWii\\tWii\\tNintendo DS\\tNintendo DS\\tshow jumping\\tshow jumping\\tNintendo Wii\\tWii\\tWindows\\tMicrosoft Windows\\n', 'doc_id': '3355994', 'passage_id': '16535805'}, {'doc_title': 'My_Horse_&_Me', 'passage': 'It is the first game released by Atari under their exclusive partnership with the FEI .\\tAtari\\tAtari\\tFEI\\tInternational Federation for Equestrian Sports\\n', 'doc_id': '3355994', 'passage_id': '16535806'}, {'doc_title': 'Monsanto_Co._v._Rohm_and_Haas_Co.', 'passage': 'Monsanto Co. v. Rohm and Haas Co. , 456 F. 2d 592 3d Cir .\\n', 'doc_id': '3355995', 'passage_id': '16535807'}, {'doc_title': 'Monsanto_Co._v._Rohm_and_Haas_Co.', 'passage': '1972 , is a 1972 decision of the United States Court of Appeals for the Third Circuit interpreting what conduct amounts to fraudulent procurement of a patent .\\tUnited States Court of Appeals for the Third Circuit\\tUnited States Court of Appeals for the Third Circuit\\tpatent\\tpatent\\n', 'doc_id': '3355995', 'passage_id': '16535808'}, {'doc_title': 'Monsanto_Co._v._Rohm_and_Haas_Co.', 'passage': \"It is one of the early decisions following the Supreme Court 's landmark 1964 decision in Walker Process v. Food Machinery holding fraud on the patent office as potentially violating the Sherman Antitrust Act , and one of the first if not the first to hold that failure to disclose material information to the Patent Office was fraudulent .\\tpatent\\tpatent\\tWalker Process v. Food Machinery\\tWalker Process v. Food Machinery\\n\", 'doc_id': '3355995', 'passage_id': '16535809'}, {'doc_title': 'NK_Slavija_Vevče', 'passage': 'Nogometni Klub Slavija Vevče Slavija Vevče Football Club , commonly referred to as NK Slavija Vevče or simply Slavija , was a Slovenian football club , based in Vevče district in Ljubljana .\\tLjubljana\\tLjubljana\\tfootball\\tassociation football\\tVevče\\tVevče\\n', 'doc_id': '3355996', 'passage_id': '16535810'}, {'doc_title': 'NK_Slavija_Vevče', 'passage': 'The club was formed in 1921 and played in the Slovenian PrvaLiga in the 1994 -- 95 season , after they replaced Svoboda before the start of the competition .\\tSlovenian PrvaLiga\\tSlovenian PrvaLiga\\tSvoboda\\tNK Svoboda\\n', 'doc_id': '3355996', 'passage_id': '16535811'}, {'doc_title': 'NK_Slavija_Vevče', 'passage': 'They were sponsored by local printing company SET for most of the time , therefore their first team often played under the name SET Vevče rather than Slavija .\\tVevče\\tVevče\\n', 'doc_id': '3355996', 'passage_id': '16535812'}, {'doc_title': 'NK_Slavija_Vevče', 'passage': 'This sponsorship also brought them a reputation of financially well stabilized club for a short-term period .\\n', 'doc_id': '3355996', 'passage_id': '16535813'}, {'doc_title': 'NK_Slavija_Vevče', 'passage': 'The culmination came in 1996 , when they have merged with Slovan and moved to Kodeljevo to play there as ND Slovan-Slavija for three seasons .\\tSlovan\\tND Slovan\\tKodeljevo\\tKodeljevo Sports Park\\n', 'doc_id': '3355996', 'passage_id': '16535814'}, {'doc_title': 'NK_Slavija_Vevče', 'passage': 'They have won the Slovenian Second League in 1996 -- 97 , but were then relegated from first and second league in two seasons .\\tSlovenian Second League\\tSlovenian Second League\\n', 'doc_id': '3355996', 'passage_id': '16535815'}, {'doc_title': 'NK_Slavija_Vevče', 'passage': 'After 1999 Slavija was eventually left out of the club , playing from then onwards known purely as Slovan .\\tSlovan\\tND Slovan\\n', 'doc_id': '3355996', 'passage_id': '16535816'}, {'doc_title': 'NK_Slavija_Vevče', 'passage': 'Traditional club colours until 1996 were blue and white .\\n', 'doc_id': '3355996', 'passage_id': '16535817'}, {'doc_title': 'Mundo_Unico', 'passage': \"Mundo Unico is a men 's apparel company based in Medellín , Colombia .\\tMedellín\\tMedellín\\tColombia\\tColombia\\n\", 'doc_id': '3355997', 'passage_id': '16535818'}, {'doc_title': 'Mundo_Unico', 'passage': 'Developed by Nicolas Echeverri , Unico has been noted for its introduction of Lycra , elimination of seams , and color to its products .\\tLycra\\tLycra\\n', 'doc_id': '3355997', 'passage_id': '16535819'}, {'doc_title': 'Multnomah_Park_Cemetery', 'passage': \"Multnomah Park Cemetery is a 9-acre cemetery located at Southeast 82nd Avenue and Holgate Boulevard , in Portland , Oregon 's Foster-Powell neighborhood , in the United States .\\tFoster-Powell\\tFoster-Powell, Portland, Oregon\\n\", 'doc_id': '3355998', 'passage_id': '16535820'}, {'doc_title': 'Murray_Gainger', 'passage': 'Murray Gainger 11 September 1939 -- 31 May 1988 was a former Australian rules footballer who played with Richmond in the Victorian Football League VFL .\\tRichmond\\tRichmond Football Club\\tVictorian Football League\\tAustralian Football League\\n', 'doc_id': '3355999', 'passage_id': '16535821'}, {'doc_title': 'Mário_Frias', 'passage': 'Mário Frias born October 9 , 1971 in Rio de Janeiro is a Brazilian telenovela actor .\\tRio de Janeiro\\tRio de Janeiro\\ttelenovela\\ttelenovela\\tactor\\tactor\\n', 'doc_id': '3356000', 'passage_id': '16535822'}, {'doc_title': 'Museum_-LRB-TTC-RRB-', 'passage': 'Museum is a subway station on the Yonge -- University line in Toronto , Ontario , Canada .\\tToronto\\tToronto\\tOntario\\tOntario\\tCanada\\tCanada\\tsubway station\\tList of Toronto TTC stations\\n', 'doc_id': '3356001', 'passage_id': '16535823'}, {'doc_title': 'Museum_-LRB-TTC-RRB-', 'passage': \"It opened in 1963 and is located under Queen 's Park at Charles Street West , beside the Royal Ontario Museum after which it is named .\\tOntario\\tOntario\\tRoyal Ontario Museum\\tRoyal Ontario Museum\\n\", 'doc_id': '3356001', 'passage_id': '16535824'}, {'doc_title': 'Museum_-LRB-TTC-RRB-', 'passage': 'Wi-Fi service is available at this station .\\n', 'doc_id': '3356001', 'passage_id': '16535825'}, {'doc_title': 'Museo_Archeologico_Nazionale_di_Campli', 'passage': 'Museo Archeologico Nazionale di Campli Italian for National Archaeology Museum of Campli is an archaeology museum in Campli , Abruzzo .\\tCampli\\tCampli\\tItalian\\tItalian language\\tarchaeology museum\\tarchaeology museum\\tAbruzzo\\tAbruzzo\\n', 'doc_id': '3356002', 'passage_id': '16535826'}, {'doc_title': 'Movses_Abelian', 'passage': 'Movses Abelian is an Armenian diplomat and United Nations official .\\tUnited Nations\\tUnited Nations\\n', 'doc_id': '3356003', 'passage_id': '16535827'}, {'doc_title': 'Movses_Abelian', 'passage': 'He is currently Assistant Secretary-General of the United Nations , responsible for General Assembly management since 2016 .\\tUnited Nations\\tUnited Nations\\tAssistant Secretary-General\\tAssistant Secretary-General\\tGeneral Assembly\\tUnited Nations General Assembly\\n', 'doc_id': '3356003', 'passage_id': '16535828'}, {'doc_title': 'Movses_Abelian', 'passage': 'He has formerly been Director of the Security Council Affairs Division and Secretary of the United Nations Security Council from 2011 to 2016 .\\tUnited Nations\\tUnited Nations\\tUnited Nations Security Council\\tUnited Nations Security Council\\n', 'doc_id': '3356003', 'passage_id': '16535829'}, {'doc_title': 'Movses_Abelian', 'passage': \"He served as Armenia 's Permanent Representative to the United Nations in New York from 1998 to 2003 and as President of the UNICEF Executive Board at the international level in 2001 .\\tArmenia\\tArmenia\\tUnited Nations\\tUnited Nations\\tPermanent Representative to the United Nations\\tPermanent Representative to the United Nations\\tUNICEF\\tUNICEF\\n\", 'doc_id': '3356003', 'passage_id': '16535830'}, {'doc_title': 'Nakfa', 'passage': 'Nakfa is\\n', 'doc_id': '3356004', 'passage_id': '16535831'}, {'doc_title': 'Nakfa', 'passage': 'the currency of Eritrea , see Eritrean nakfa\\tEritrean nakfa\\tEritrean nakfa\\n', 'doc_id': '3356004', 'passage_id': '16535832'}]\n"
     ]
    }
   ],
   "source": [
    "with open('processed_wiki_jsons_2/9.json', 'r') as file:\n",
    "    data = json.load(file)\n",
    "\n",
    "\n",
    "print(data[:100])"
   ]
  },
  {
   "cell_type": "code",
   "execution_count": null,
   "id": "db1fbaad",
   "metadata": {},
   "outputs": [],
   "source": []
  }
 ],
 "metadata": {
  "kernelspec": {
   "display_name": "Python faiss_1.7.4",
   "language": "python",
   "name": "faiss_1.7.4"
  },
  "language_info": {
   "codemirror_mode": {
    "name": "ipython",
    "version": 3
   },
   "file_extension": ".py",
   "mimetype": "text/x-python",
   "name": "python",
   "nbconvert_exporter": "python",
   "pygments_lexer": "ipython3",
   "version": "3.10.13"
  }
 },
 "nbformat": 4,
 "nbformat_minor": 5
}
