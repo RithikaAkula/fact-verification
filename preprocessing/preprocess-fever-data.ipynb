{
 "cells": [
  {
   "cell_type": "code",
   "execution_count": 2,
   "id": "02ff7d9c",
   "metadata": {},
   "outputs": [
    {
     "name": "stderr",
     "output_type": "stream",
     "text": [
      "/home/rahvk/data/tmp/anaconda3/envs/faiss_1.7.4/lib/python3.10/site-packages/cudf/utils/gpu_utils.py:62: UserWarning: Failed to dlopen libcuda.so\n",
      "  warnings.warn(str(e))\n"
     ]
    },
    {
     "ename": "ImportError",
     "evalue": "\n================================================================\nFailed to import CuPy.\n\nIf you installed CuPy via wheels (cupy-cudaXXX or cupy-rocm-X-X), make sure that the package matches with the version of CUDA or ROCm installed.\n\nOn Linux, you may need to set LD_LIBRARY_PATH environment variable depending on how you installed CUDA/ROCm.\nOn Windows, try setting CUDA_PATH environment variable.\n\nCheck the Installation Guide for details:\n  https://docs.cupy.dev/en/latest/install.html\n\nOriginal error:\n  ImportError: libcuda.so.1: cannot open shared object file: No such file or directory\n================================================================\n",
     "output_type": "error",
     "traceback": [
      "\u001b[0;31m---------------------------------------------------------------------------\u001b[0m",
      "\u001b[0;31mImportError\u001b[0m                               Traceback (most recent call last)",
      "File \u001b[0;32m~/data/tmp/anaconda3/envs/faiss_1.7.4/lib/python3.10/site-packages/cupy/__init__.py:18\u001b[0m\n\u001b[1;32m     17\u001b[0m \u001b[38;5;28;01mtry\u001b[39;00m:\n\u001b[0;32m---> 18\u001b[0m     \u001b[38;5;28;01mfrom\u001b[39;00m \u001b[38;5;21;01mcupy\u001b[39;00m \u001b[38;5;28;01mimport\u001b[39;00m _core  \u001b[38;5;66;03m# NOQA\u001b[39;00m\n\u001b[1;32m     19\u001b[0m \u001b[38;5;28;01mexcept\u001b[39;00m \u001b[38;5;167;01mImportError\u001b[39;00m \u001b[38;5;28;01mas\u001b[39;00m e:\n",
      "File \u001b[0;32m~/data/tmp/anaconda3/envs/faiss_1.7.4/lib/python3.10/site-packages/cupy/_core/__init__.py:1\u001b[0m\n\u001b[0;32m----> 1\u001b[0m \u001b[38;5;28;01mfrom\u001b[39;00m \u001b[38;5;21;01mcupy\u001b[39;00m\u001b[38;5;21;01m.\u001b[39;00m\u001b[38;5;21;01m_core\u001b[39;00m \u001b[38;5;28;01mimport\u001b[39;00m core  \u001b[38;5;66;03m# NOQA\u001b[39;00m\n\u001b[1;32m      2\u001b[0m \u001b[38;5;28;01mfrom\u001b[39;00m \u001b[38;5;21;01mcupy\u001b[39;00m\u001b[38;5;21;01m.\u001b[39;00m\u001b[38;5;21;01m_core\u001b[39;00m \u001b[38;5;28;01mimport\u001b[39;00m fusion  \u001b[38;5;66;03m# NOQA\u001b[39;00m\n",
      "File \u001b[0;32mcupy/_core/core.pyx:1\u001b[0m, in \u001b[0;36minit cupy._core.core\u001b[0;34m()\u001b[0m\n",
      "File \u001b[0;32m~/data/tmp/anaconda3/envs/faiss_1.7.4/lib/python3.10/site-packages/cupy/cuda/__init__.py:8\u001b[0m\n\u001b[1;32m      7\u001b[0m \u001b[38;5;28;01mfrom\u001b[39;00m \u001b[38;5;21;01mcupy\u001b[39;00m\u001b[38;5;21;01m.\u001b[39;00m\u001b[38;5;21;01m_environment\u001b[39;00m \u001b[38;5;28;01mimport\u001b[39;00m get_hipcc_path  \u001b[38;5;66;03m# NOQA\u001b[39;00m\n\u001b[0;32m----> 8\u001b[0m \u001b[38;5;28;01mfrom\u001b[39;00m \u001b[38;5;21;01mcupy\u001b[39;00m\u001b[38;5;21;01m.\u001b[39;00m\u001b[38;5;21;01mcuda\u001b[39;00m \u001b[38;5;28;01mimport\u001b[39;00m compiler  \u001b[38;5;66;03m# NOQA\u001b[39;00m\n\u001b[1;32m      9\u001b[0m \u001b[38;5;28;01mfrom\u001b[39;00m \u001b[38;5;21;01mcupy\u001b[39;00m\u001b[38;5;21;01m.\u001b[39;00m\u001b[38;5;21;01mcuda\u001b[39;00m \u001b[38;5;28;01mimport\u001b[39;00m device  \u001b[38;5;66;03m# NOQA\u001b[39;00m\n",
      "File \u001b[0;32m~/data/tmp/anaconda3/envs/faiss_1.7.4/lib/python3.10/site-packages/cupy/cuda/compiler.py:14\u001b[0m\n\u001b[1;32m     13\u001b[0m \u001b[38;5;28;01mfrom\u001b[39;00m \u001b[38;5;21;01mcupy\u001b[39;00m\u001b[38;5;21;01m.\u001b[39;00m\u001b[38;5;21;01mcuda\u001b[39;00m \u001b[38;5;28;01mimport\u001b[39;00m device\n\u001b[0;32m---> 14\u001b[0m \u001b[38;5;28;01mfrom\u001b[39;00m \u001b[38;5;21;01mcupy\u001b[39;00m\u001b[38;5;21;01m.\u001b[39;00m\u001b[38;5;21;01mcuda\u001b[39;00m \u001b[38;5;28;01mimport\u001b[39;00m function\n\u001b[1;32m     15\u001b[0m \u001b[38;5;28;01mfrom\u001b[39;00m \u001b[38;5;21;01mcupy\u001b[39;00m\u001b[38;5;21;01m.\u001b[39;00m\u001b[38;5;21;01mcuda\u001b[39;00m \u001b[38;5;28;01mimport\u001b[39;00m get_rocm_path\n",
      "File \u001b[0;32mcupy/cuda/function.pyx:1\u001b[0m, in \u001b[0;36minit cupy.cuda.function\u001b[0;34m()\u001b[0m\n",
      "File \u001b[0;32mcupy/_core/_carray.pyx:1\u001b[0m, in \u001b[0;36minit cupy._core._carray\u001b[0;34m()\u001b[0m\n",
      "File \u001b[0;32mcupy/_core/internal.pyx:1\u001b[0m, in \u001b[0;36minit cupy._core.internal\u001b[0;34m()\u001b[0m\n",
      "File \u001b[0;32mcupy/cuda/memory.pyx:1\u001b[0m, in \u001b[0;36minit cupy.cuda.memory\u001b[0;34m()\u001b[0m\n",
      "\u001b[0;31mImportError\u001b[0m: libcuda.so.1: cannot open shared object file: No such file or directory",
      "\nThe above exception was the direct cause of the following exception:\n",
      "\u001b[0;31mImportError\u001b[0m                               Traceback (most recent call last)",
      "Cell \u001b[0;32mIn[2], line 4\u001b[0m\n\u001b[1;32m      2\u001b[0m \u001b[38;5;28;01mimport\u001b[39;00m \u001b[38;5;21;01mpandas\u001b[39;00m \u001b[38;5;28;01mas\u001b[39;00m \u001b[38;5;21;01mpd\u001b[39;00m\n\u001b[1;32m      3\u001b[0m \u001b[38;5;28;01mfrom\u001b[39;00m \u001b[38;5;21;01mdatasets\u001b[39;00m \u001b[38;5;28;01mimport\u001b[39;00m load_dataset\n\u001b[0;32m----> 4\u001b[0m \u001b[38;5;28;01mimport\u001b[39;00m \u001b[38;5;21;01mcudf\u001b[39;00m\n\u001b[1;32m      5\u001b[0m \u001b[38;5;28;01mimport\u001b[39;00m \u001b[38;5;21;01mos\u001b[39;00m\n",
      "File \u001b[0;32m~/data/tmp/anaconda3/envs/faiss_1.7.4/lib/python3.10/site-packages/cudf/__init__.py:7\u001b[0m\n\u001b[1;32m      3\u001b[0m \u001b[38;5;28;01mfrom\u001b[39;00m \u001b[38;5;21;01mcudf\u001b[39;00m\u001b[38;5;21;01m.\u001b[39;00m\u001b[38;5;21;01mutils\u001b[39;00m\u001b[38;5;21;01m.\u001b[39;00m\u001b[38;5;21;01mgpu_utils\u001b[39;00m \u001b[38;5;28;01mimport\u001b[39;00m validate_setup\n\u001b[1;32m      5\u001b[0m validate_setup()\n\u001b[0;32m----> 7\u001b[0m \u001b[38;5;28;01mimport\u001b[39;00m \u001b[38;5;21;01mcupy\u001b[39;00m\n\u001b[1;32m      8\u001b[0m \u001b[38;5;28;01mfrom\u001b[39;00m \u001b[38;5;21;01mnumba\u001b[39;00m \u001b[38;5;28;01mimport\u001b[39;00m config \u001b[38;5;28;01mas\u001b[39;00m numba_config, cuda\n\u001b[1;32m     10\u001b[0m \u001b[38;5;28;01mimport\u001b[39;00m \u001b[38;5;21;01mrmm\u001b[39;00m\n",
      "File \u001b[0;32m~/data/tmp/anaconda3/envs/faiss_1.7.4/lib/python3.10/site-packages/cupy/__init__.py:20\u001b[0m\n\u001b[1;32m     18\u001b[0m     \u001b[38;5;28;01mfrom\u001b[39;00m \u001b[38;5;21;01mcupy\u001b[39;00m \u001b[38;5;28;01mimport\u001b[39;00m _core  \u001b[38;5;66;03m# NOQA\u001b[39;00m\n\u001b[1;32m     19\u001b[0m \u001b[38;5;28;01mexcept\u001b[39;00m \u001b[38;5;167;01mImportError\u001b[39;00m \u001b[38;5;28;01mas\u001b[39;00m e:\n\u001b[0;32m---> 20\u001b[0m     \u001b[38;5;28;01mraise\u001b[39;00m \u001b[38;5;167;01mImportError\u001b[39;00m(\u001b[38;5;124mf\u001b[39m\u001b[38;5;124m'''\u001b[39m\n\u001b[1;32m     21\u001b[0m \u001b[38;5;124m================================================================\u001b[39m\n\u001b[1;32m     22\u001b[0m \u001b[38;5;132;01m{\u001b[39;00m_environment\u001b[38;5;241m.\u001b[39m_diagnose_import_error()\u001b[38;5;132;01m}\u001b[39;00m\n\u001b[1;32m     23\u001b[0m \n\u001b[1;32m     24\u001b[0m \u001b[38;5;124mOriginal error:\u001b[39m\n\u001b[1;32m     25\u001b[0m \u001b[38;5;124m  \u001b[39m\u001b[38;5;132;01m{\u001b[39;00m\u001b[38;5;28mtype\u001b[39m(e)\u001b[38;5;241m.\u001b[39m\u001b[38;5;18m__name__\u001b[39m\u001b[38;5;132;01m}\u001b[39;00m\u001b[38;5;124m: \u001b[39m\u001b[38;5;132;01m{\u001b[39;00me\u001b[38;5;132;01m}\u001b[39;00m\n\u001b[1;32m     26\u001b[0m \u001b[38;5;124m================================================================\u001b[39m\n\u001b[1;32m     27\u001b[0m \u001b[38;5;124m'''\u001b[39m) \u001b[38;5;28;01mfrom\u001b[39;00m \u001b[38;5;21;01me\u001b[39;00m\n\u001b[1;32m     30\u001b[0m \u001b[38;5;28;01mfrom\u001b[39;00m \u001b[38;5;21;01mcupy\u001b[39;00m \u001b[38;5;28;01mimport\u001b[39;00m cuda  \u001b[38;5;66;03m# NOQA\u001b[39;00m\n\u001b[1;32m     31\u001b[0m \u001b[38;5;66;03m# Do not make `cupy.cupyx` available because it is confusing.\u001b[39;00m\n",
      "\u001b[0;31mImportError\u001b[0m: \n================================================================\nFailed to import CuPy.\n\nIf you installed CuPy via wheels (cupy-cudaXXX or cupy-rocm-X-X), make sure that the package matches with the version of CUDA or ROCm installed.\n\nOn Linux, you may need to set LD_LIBRARY_PATH environment variable depending on how you installed CUDA/ROCm.\nOn Windows, try setting CUDA_PATH environment variable.\n\nCheck the Installation Guide for details:\n  https://docs.cupy.dev/en/latest/install.html\n\nOriginal error:\n  ImportError: libcuda.so.1: cannot open shared object file: No such file or directory\n================================================================\n"
     ]
    }
   ],
   "source": [
    "import numpy as np\n",
    "import pandas as pd\n",
    "from datasets import load_dataset\n",
    "import cudf\n",
    "import os\n"
   ]
  },
  {
   "cell_type": "code",
   "execution_count": null,
   "id": "01c26522",
   "metadata": {},
   "outputs": [],
   "source": [
    "import torch\n",
    "device = torch.device('cuda' if torch.cuda.is_available() else 'cpu')\n",
    "device"
   ]
  },
  {
   "cell_type": "code",
   "execution_count": 3,
   "id": "f54cb78e",
   "metadata": {},
   "outputs": [],
   "source": [
    "import re\n",
    "from nltk.corpus import stopwords\n",
    "from unidecode import unidecode\n",
    "\n",
    "# Clean text\n",
    "def remove_non_ascii(text):\n",
    "    return re.sub(r'[^\\x00-\\x7F]', ' ', text)\n",
    "\n",
    "\n",
    "def remove_punctuation(text):\n",
    "    return re.sub(r'[^\\w]', ' ', text)\n",
    "\n",
    "def remove_digits(text):\n",
    "    return re.sub(r'[\\d]', '', text)\n",
    "\n",
    "\n",
    "def to_lowercase(text):\n",
    "    return text.lower()\n",
    "\n",
    "\n",
    "def remove_extra_space(text):\n",
    "    return re.sub(' +', ' ', text)\n",
    "\n",
    "\n",
    "def remove_url(text):\n",
    "    return re.sub(r'http\\S+', ' ', text)\n",
    "\n",
    "\n",
    "def remove_underline(text):\n",
    "    return text.replace('_', ' ')\n",
    "\n",
    "\n",
    "def remove_hyphen(text):\n",
    "    return text.replace('-', ' ')\n",
    "\n",
    "\n",
    "def remove_leading_whitespace(text):\n",
    "    return text.lstrip()\n",
    "\n",
    "def remove_stopwords(text):\n",
    "    stop_words = set(stopwords.words('english'))\n",
    "    return ' '.join([word for word in text.split() if word not in stop_words])\n",
    "\n",
    "def decode_special_chars(text):\n",
    "    return re.sub(r'-[A-Z]+-', ' ', text)\n",
    "\n",
    "def remove_newline(text):\n",
    "    return re.sub('\\n', ' ', text)\n",
    "\n",
    "def remove_tabs(text):\n",
    "    return re.sub('\\t', '', text)\n",
    "\n",
    "def remove_intext_tabs(text):\n",
    "    return re.sub(r'(?<!\\d)\\t', ' ', text)\n",
    "\n",
    "def remove_special_tokens(text):\n",
    "    return re.sub(r'-[A-Z]+-', '', text)\n",
    "\n",
    "def remove_quotes(text):\n",
    "    text = re.sub(r'(``|\\' \\')', '', text)\n",
    "    return re.sub(r\"''\", '', text)\n",
    "\n",
    "\n",
    "def clean_text(df: pd.DataFrame, column: str):\n",
    "    \n",
    "    df[column] = df[column].apply(remove_special_tokens)\n",
    "    df[column] = df[column].apply(remove_extra_space)\n",
    "    df[column] = df[column].apply(remove_quotes)\n",
    "\n",
    "    return df "
   ]
  },
  {
   "cell_type": "code",
   "execution_count": 10,
   "id": "f1761611",
   "metadata": {},
   "outputs": [],
   "source": [
    "\n",
    "def get_claim_df():\n",
    "    \n",
    "    cache_dir = '/home/rahvk/data/tmp/cache/fever3' # change this to your own path\n",
    "    claim_dataset = load_dataset('fever', 'v1.0', cache_dir=cache_dir)\n",
    "    claim_df = pd.DataFrame()\n",
    "\n",
    "    for split in ['paper_test']:\n",
    "        # Load train file\n",
    "        claim_split = claim_dataset[split]\n",
    "        claim_d = pd.DataFrame(claim_split)\n",
    "\n",
    "        claim_d = claim_d.drop(columns=['evidence_annotation_id', 'evidence_id', 'evidence_sentence_id'])\n",
    "        \n",
    "        # Remove rows with label NOT ENOUGH INFO\n",
    "#         claim_d = claim_d[claim_d['label'] != \"NOT ENOUGH INFO\"]\n",
    "\n",
    "        # Clean claim DataFrame\n",
    "        claim_d = clean_text(df=claim_d, column=\"claim\")\n",
    "        claim_d.rename(columns={'evidence_wiki_url': 'title'}, inplace=True)\n",
    "        claim_df = pd.concat([claim_df, claim_d], axis=0).drop_duplicates()\n",
    "\n",
    "        del claim_split\n",
    "        del claim_d\n",
    "\n",
    "    del claim_dataset\n",
    "    \n",
    "    return claim_df"
   ]
  },
  {
   "cell_type": "code",
   "execution_count": 11,
   "id": "40f4aa68",
   "metadata": {},
   "outputs": [
    {
     "name": "stderr",
     "output_type": "stream",
     "text": [
      "Found cached dataset fever (/home/rahvk/data/tmp/cache/fever3/fever/v1.0/1.0.0/7f8936e0558704771b08c7ce9cc202071b29a0050603374507ba61d23c00a58e)\n"
     ]
    },
    {
     "data": {
      "application/vnd.jupyter.widget-view+json": {
       "model_id": "a8c2196b5f3749d1b0d79f9815e9e00d",
       "version_major": 2,
       "version_minor": 0
      },
      "text/plain": [
       "  0%|          | 0/6 [00:00<?, ?it/s]"
      ]
     },
     "metadata": {},
     "output_type": "display_data"
    },
    {
     "data": {
      "text/html": [
       "<div>\n",
       "<style scoped>\n",
       "    .dataframe tbody tr th:only-of-type {\n",
       "        vertical-align: middle;\n",
       "    }\n",
       "\n",
       "    .dataframe tbody tr th {\n",
       "        vertical-align: top;\n",
       "    }\n",
       "\n",
       "    .dataframe thead th {\n",
       "        text-align: right;\n",
       "    }\n",
       "</style>\n",
       "<table border=\"1\" class=\"dataframe\">\n",
       "  <thead>\n",
       "    <tr style=\"text-align: right;\">\n",
       "      <th></th>\n",
       "      <th>id</th>\n",
       "      <th>label</th>\n",
       "      <th>claim</th>\n",
       "      <th>title</th>\n",
       "    </tr>\n",
       "  </thead>\n",
       "  <tbody>\n",
       "    <tr>\n",
       "      <th>0</th>\n",
       "      <td>113501</td>\n",
       "      <td>NOT ENOUGH INFO</td>\n",
       "      <td>Grease had bad reviews.</td>\n",
       "      <td></td>\n",
       "    </tr>\n",
       "    <tr>\n",
       "      <th>1</th>\n",
       "      <td>163803</td>\n",
       "      <td>SUPPORTS</td>\n",
       "      <td>Ukrainian Soviet Socialist Republic was a foun...</td>\n",
       "      <td>Ukrainian_Soviet_Socialist_Republic</td>\n",
       "    </tr>\n",
       "    <tr>\n",
       "      <th>3</th>\n",
       "      <td>163803</td>\n",
       "      <td>SUPPORTS</td>\n",
       "      <td>Ukrainian Soviet Socialist Republic was a foun...</td>\n",
       "      <td>United_Nations</td>\n",
       "    </tr>\n",
       "    <tr>\n",
       "      <th>8</th>\n",
       "      <td>70041</td>\n",
       "      <td>SUPPORTS</td>\n",
       "      <td>2 Hearts is a musical composition by Minogue.</td>\n",
       "      <td>2_Hearts_-LRB-Kylie_Minogue_song-RRB-</td>\n",
       "    </tr>\n",
       "    <tr>\n",
       "      <th>12</th>\n",
       "      <td>202314</td>\n",
       "      <td>REFUTES</td>\n",
       "      <td>The New Jersey Turnpike has zero shoulders.</td>\n",
       "      <td>New_Jersey_Turnpike</td>\n",
       "    </tr>\n",
       "  </tbody>\n",
       "</table>\n",
       "</div>"
      ],
      "text/plain": [
       "        id            label  \\\n",
       "0   113501  NOT ENOUGH INFO   \n",
       "1   163803         SUPPORTS   \n",
       "3   163803         SUPPORTS   \n",
       "8    70041         SUPPORTS   \n",
       "12  202314          REFUTES   \n",
       "\n",
       "                                                claim  \\\n",
       "0                             Grease had bad reviews.   \n",
       "1   Ukrainian Soviet Socialist Republic was a foun...   \n",
       "3   Ukrainian Soviet Socialist Republic was a foun...   \n",
       "8       2 Hearts is a musical composition by Minogue.   \n",
       "12        The New Jersey Turnpike has zero shoulders.   \n",
       "\n",
       "                                    title  \n",
       "0                                          \n",
       "1     Ukrainian_Soviet_Socialist_Republic  \n",
       "3                          United_Nations  \n",
       "8   2_Hearts_-LRB-Kylie_Minogue_song-RRB-  \n",
       "12                    New_Jersey_Turnpike  "
      ]
     },
     "execution_count": 11,
     "metadata": {},
     "output_type": "execute_result"
    }
   ],
   "source": [
    "claim_df = get_claim_df()\n",
    "claim_df.head()"
   ]
  },
  {
   "cell_type": "code",
   "execution_count": 12,
   "id": "98cd64f3",
   "metadata": {},
   "outputs": [
    {
     "data": {
      "text/plain": [
       "(11270, 4)"
      ]
     },
     "execution_count": 12,
     "metadata": {},
     "output_type": "execute_result"
    }
   ],
   "source": [
    "claim_df.shape"
   ]
  },
  {
   "cell_type": "code",
   "execution_count": 13,
   "id": "f8f89b18",
   "metadata": {},
   "outputs": [
    {
     "data": {
      "text/html": [
       "<div>\n",
       "<style scoped>\n",
       "    .dataframe tbody tr th:only-of-type {\n",
       "        vertical-align: middle;\n",
       "    }\n",
       "\n",
       "    .dataframe tbody tr th {\n",
       "        vertical-align: top;\n",
       "    }\n",
       "\n",
       "    .dataframe thead th {\n",
       "        text-align: right;\n",
       "    }\n",
       "</style>\n",
       "<table border=\"1\" class=\"dataframe\">\n",
       "  <thead>\n",
       "    <tr style=\"text-align: right;\">\n",
       "      <th></th>\n",
       "      <th>id</th>\n",
       "      <th>label</th>\n",
       "      <th>claim</th>\n",
       "      <th>title</th>\n",
       "    </tr>\n",
       "  </thead>\n",
       "  <tbody>\n",
       "    <tr>\n",
       "      <th>0</th>\n",
       "      <td>113501</td>\n",
       "      <td>NOT ENOUGH INFO</td>\n",
       "      <td>Grease had bad reviews.</td>\n",
       "      <td></td>\n",
       "    </tr>\n",
       "    <tr>\n",
       "      <th>1</th>\n",
       "      <td>163803</td>\n",
       "      <td>SUPPORTS</td>\n",
       "      <td>Ukrainian Soviet Socialist Republic was a foun...</td>\n",
       "      <td>Ukrainian_Soviet_Socialist_Republic</td>\n",
       "    </tr>\n",
       "    <tr>\n",
       "      <th>2</th>\n",
       "      <td>163803</td>\n",
       "      <td>SUPPORTS</td>\n",
       "      <td>Ukrainian Soviet Socialist Republic was a foun...</td>\n",
       "      <td>United_Nations</td>\n",
       "    </tr>\n",
       "    <tr>\n",
       "      <th>3</th>\n",
       "      <td>70041</td>\n",
       "      <td>SUPPORTS</td>\n",
       "      <td>2 Hearts is a musical composition by Minogue.</td>\n",
       "      <td>2_Hearts_-LRB-Kylie_Minogue_song-RRB-</td>\n",
       "    </tr>\n",
       "    <tr>\n",
       "      <th>4</th>\n",
       "      <td>202314</td>\n",
       "      <td>REFUTES</td>\n",
       "      <td>The New Jersey Turnpike has zero shoulders.</td>\n",
       "      <td>New_Jersey_Turnpike</td>\n",
       "    </tr>\n",
       "  </tbody>\n",
       "</table>\n",
       "</div>"
      ],
      "text/plain": [
       "       id            label                                              claim  \\\n",
       "0  113501  NOT ENOUGH INFO                            Grease had bad reviews.   \n",
       "1  163803         SUPPORTS  Ukrainian Soviet Socialist Republic was a foun...   \n",
       "2  163803         SUPPORTS  Ukrainian Soviet Socialist Republic was a foun...   \n",
       "3   70041         SUPPORTS      2 Hearts is a musical composition by Minogue.   \n",
       "4  202314          REFUTES        The New Jersey Turnpike has zero shoulders.   \n",
       "\n",
       "                                   title  \n",
       "0                                         \n",
       "1    Ukrainian_Soviet_Socialist_Republic  \n",
       "2                         United_Nations  \n",
       "3  2_Hearts_-LRB-Kylie_Minogue_song-RRB-  \n",
       "4                    New_Jersey_Turnpike  "
      ]
     },
     "execution_count": 13,
     "metadata": {},
     "output_type": "execute_result"
    }
   ],
   "source": [
    "claim_df = claim_df.reset_index(drop=True)\n",
    "claim_df.head()\n"
   ]
  },
  {
   "cell_type": "code",
   "execution_count": 14,
   "id": "5271bd82",
   "metadata": {},
   "outputs": [],
   "source": [
    "# claim_df.to_parquet('processed_fever/fever-with-noi.parquet')"
   ]
  },
  {
   "cell_type": "code",
   "execution_count": 15,
   "id": "69900ee9",
   "metadata": {},
   "outputs": [],
   "source": [
    "\n",
    "# Randomly select 333 rows where label = 'SUPPORTS'\n",
    "supports_df = claim_df[claim_df['label'] == 'SUPPORTS'].sample(n=333, random_state=42)\n",
    "\n",
    "# Randomly select 333 rows where label = 'REFUTES'\n",
    "refutes_df = claim_df[claim_df['label'] == 'REFUTES'].sample(n=333, random_state=42)\n",
    "\n",
    "# Randomly select 334 rows where label = 'NOT ENOUGH INFO'\n",
    "noi_df = claim_df[claim_df['label'] == 'NOT ENOUGH INFO'].sample(n=334, random_state=42)\n",
    "\n",
    "# Concatenate the DataFrames\n",
    "result_df = pd.concat([supports_df, refutes_df, noi_df], ignore_index=True)\n",
    "\n",
    "# Shuffle the resulting DataFrame\n",
    "result_df = result_df.sample(frac=1, random_state=42).reset_index(drop=True)\n"
   ]
  },
  {
   "cell_type": "code",
   "execution_count": 16,
   "id": "a99630d1",
   "metadata": {},
   "outputs": [
    {
     "data": {
      "text/html": [
       "<div>\n",
       "<style scoped>\n",
       "    .dataframe tbody tr th:only-of-type {\n",
       "        vertical-align: middle;\n",
       "    }\n",
       "\n",
       "    .dataframe tbody tr th {\n",
       "        vertical-align: top;\n",
       "    }\n",
       "\n",
       "    .dataframe thead th {\n",
       "        text-align: right;\n",
       "    }\n",
       "</style>\n",
       "<table border=\"1\" class=\"dataframe\">\n",
       "  <thead>\n",
       "    <tr style=\"text-align: right;\">\n",
       "      <th></th>\n",
       "      <th>id</th>\n",
       "      <th>label</th>\n",
       "      <th>claim</th>\n",
       "      <th>title</th>\n",
       "    </tr>\n",
       "  </thead>\n",
       "  <tbody>\n",
       "    <tr>\n",
       "      <th>0</th>\n",
       "      <td>135336</td>\n",
       "      <td>REFUTES</td>\n",
       "      <td>Quay premiered at a commercial movie theater.</td>\n",
       "      <td>Quay_-LRB-film-RRB-</td>\n",
       "    </tr>\n",
       "    <tr>\n",
       "      <th>1</th>\n",
       "      <td>137972</td>\n",
       "      <td>NOT ENOUGH INFO</td>\n",
       "      <td>Samsung entered the electronics industry in 1967.</td>\n",
       "      <td></td>\n",
       "    </tr>\n",
       "    <tr>\n",
       "      <th>2</th>\n",
       "      <td>64885</td>\n",
       "      <td>NOT ENOUGH INFO</td>\n",
       "      <td>James Spader is known for portraying eccentric...</td>\n",
       "      <td></td>\n",
       "    </tr>\n",
       "    <tr>\n",
       "      <th>3</th>\n",
       "      <td>108646</td>\n",
       "      <td>REFUTES</td>\n",
       "      <td>Jack Dylan Grazer was married on September 3, ...</td>\n",
       "      <td>Jack_Dylan_Grazer</td>\n",
       "    </tr>\n",
       "    <tr>\n",
       "      <th>4</th>\n",
       "      <td>214976</td>\n",
       "      <td>REFUTES</td>\n",
       "      <td>Sensitive Skin's first series aired in 2007.</td>\n",
       "      <td>Sensitive_Skin_-LRB-UK_TV_series-RRB-</td>\n",
       "    </tr>\n",
       "  </tbody>\n",
       "</table>\n",
       "</div>"
      ],
      "text/plain": [
       "       id            label                                              claim  \\\n",
       "0  135336          REFUTES      Quay premiered at a commercial movie theater.   \n",
       "1  137972  NOT ENOUGH INFO  Samsung entered the electronics industry in 1967.   \n",
       "2   64885  NOT ENOUGH INFO  James Spader is known for portraying eccentric...   \n",
       "3  108646          REFUTES  Jack Dylan Grazer was married on September 3, ...   \n",
       "4  214976          REFUTES       Sensitive Skin's first series aired in 2007.   \n",
       "\n",
       "                                   title  \n",
       "0                    Quay_-LRB-film-RRB-  \n",
       "1                                         \n",
       "2                                         \n",
       "3                      Jack_Dylan_Grazer  \n",
       "4  Sensitive_Skin_-LRB-UK_TV_series-RRB-  "
      ]
     },
     "execution_count": 16,
     "metadata": {},
     "output_type": "execute_result"
    }
   ],
   "source": [
    "result_df = result_df.reset_index(drop=True)\n",
    "result_df.head()\n"
   ]
  },
  {
   "cell_type": "code",
   "execution_count": 17,
   "id": "6699ab10",
   "metadata": {},
   "outputs": [
    {
     "data": {
      "text/plain": [
       "(1000, 4)"
      ]
     },
     "execution_count": 17,
     "metadata": {},
     "output_type": "execute_result"
    }
   ],
   "source": [
    "result_df.shape"
   ]
  },
  {
   "cell_type": "code",
   "execution_count": 18,
   "id": "1520dc63",
   "metadata": {},
   "outputs": [],
   "source": [
    "result_df.to_parquet('processed_fever/fever-1000.parquet')"
   ]
  },
  {
   "cell_type": "code",
   "execution_count": null,
   "id": "e5724c93",
   "metadata": {},
   "outputs": [],
   "source": []
  }
 ],
 "metadata": {
  "kernelspec": {
   "display_name": "Python faiss_1.7.4",
   "language": "python",
   "name": "faiss_1.7.4"
  },
  "language_info": {
   "codemirror_mode": {
    "name": "ipython",
    "version": 3
   },
   "file_extension": ".py",
   "mimetype": "text/x-python",
   "name": "python",
   "nbconvert_exporter": "python",
   "pygments_lexer": "ipython3",
   "version": "3.10.13"
  }
 },
 "nbformat": 4,
 "nbformat_minor": 5
}
